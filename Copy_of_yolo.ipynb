{
  "cells": [
    {
      "cell_type": "markdown",
      "source": [
        "## Upload the provided kaggle.json file "
      ],
      "metadata": {
        "id": "SXjADQUQKhT0"
      }
    },
    {
      "cell_type": "code",
      "execution_count": null,
      "metadata": {
        "id": "aHWwG3IedlIy",
        "colab": {
          "resources": {
            "http://localhost:8080/nbextensions/google.colab/files.js": {
              "data": "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",
              "ok": true,
              "headers": [
                [
                  "content-type",
                  "application/javascript"
                ]
              ],
              "status": 200,
              "status_text": ""
            }
          },
          "base_uri": "https://localhost:8080/",
          "height": 37
        },
        "outputId": "2674cb29-1de7-4815-ec8f-e1b9aca78cb6"
      },
      "outputs": [
        {
          "output_type": "display_data",
          "data": {
            "text/plain": [
              "<IPython.core.display.HTML object>"
            ],
            "text/html": [
              "\n",
              "     <input type=\"file\" id=\"files-26f2a6e0-2b61-4c3f-8f77-4cd6f568c57f\" name=\"files[]\" multiple disabled\n",
              "        style=\"border:none\" />\n",
              "     <output id=\"result-26f2a6e0-2b61-4c3f-8f77-4cd6f568c57f\">\n",
              "      Upload widget is only available when the cell has been executed in the\n",
              "      current browser session. Please rerun this cell to enable.\n",
              "      </output>\n",
              "      <script src=\"/nbextensions/google.colab/files.js\"></script> "
            ]
          },
          "metadata": {}
        }
      ],
      "source": [
        "from google.colab import files \n",
        "files.upload()"
      ]
    },
    {
      "cell_type": "code",
      "execution_count": null,
      "metadata": {
        "id": "zStbGRwddl-o"
      },
      "outputs": [],
      "source": [
        "!pip install -q kaggle"
      ]
    },
    {
      "cell_type": "code",
      "execution_count": null,
      "metadata": {
        "id": "k4LHMl9udsBl"
      },
      "outputs": [],
      "source": [
        "!mkdir -p ~/.kaggle"
      ]
    },
    {
      "cell_type": "code",
      "execution_count": null,
      "metadata": {
        "id": "cyNAgtvqd9To"
      },
      "outputs": [],
      "source": [
        "!cp kaggle.json ~/.kaggle/\n",
        "\n"
      ]
    },
    {
      "cell_type": "markdown",
      "source": [
        "## Making training , testing and validation directories "
      ],
      "metadata": {
        "id": "wLM9UVJ5K8Oc"
      }
    },
    {
      "cell_type": "code",
      "execution_count": null,
      "metadata": {
        "colab": {
          "base_uri": "https://localhost:8080/"
        },
        "id": "hYCccnEGeKW9",
        "outputId": "88a36efe-ac07-4d6e-c8fd-796665ed64fa"
      },
      "outputs": [
        {
          "output_type": "stream",
          "name": "stdout",
          "text": [
            "Warning: Your Kaggle API key is readable by other users on this system! To fix this, you can run 'chmod 600 /root/.kaggle/kaggle.json'\n",
            "dataset.zip: Skipping, found more recently modified local copy (use --force to force download)\n"
          ]
        }
      ],
      "source": [
        "!kaggle datasets download -d zobiakhan063/dataset"
      ]
    },
    {
      "cell_type": "code",
      "execution_count": null,
      "metadata": {
        "colab": {
          "base_uri": "https://localhost:8080/"
        },
        "id": "Nsvk4iWbfAK8",
        "outputId": "648e6f29-c3f7-427c-e054-6cdce7e61b85"
      },
      "outputs": [
        {
          "output_type": "stream",
          "name": "stdout",
          "text": [
            "Archive:  /content/dataset.zip\n",
            "replace /content/data/IMG_5983.JPG? [y]es, [n]o, [A]ll, [N]one, [r]ename: "
          ]
        }
      ],
      "source": [
        "!unzip /content/dataset.zip -d /content/data\n"
      ]
    },
    {
      "cell_type": "code",
      "execution_count": null,
      "metadata": {
        "id": "VjY9_VPzfOhY",
        "colab": {
          "base_uri": "https://localhost:8080/"
        },
        "outputId": "52cbdc69-4f09-4382-b2b0-2766c72b2f9f"
      },
      "outputs": [
        {
          "output_type": "stream",
          "name": "stdout",
          "text": [
            "mkdir: cannot create directory ‘train’: File exists\n",
            "mkdir: cannot create directory ‘train/images’: File exists\n",
            "mkdir: cannot create directory ‘train/labels’: File exists\n",
            "mkdir: cannot create directory ‘val’: File exists\n",
            "mkdir: cannot create directory ‘val/images’: File exists\n",
            "mkdir: cannot create directory ‘val/labels’: File exists\n"
          ]
        }
      ],
      "source": [
        "!mkdir train\n",
        "!mkdir train/images\n",
        "!mkdir train/labels\n",
        "!mkdir val\n",
        "!mkdir val/images\n",
        "!mkdir val/labels"
      ]
    },
    {
      "cell_type": "markdown",
      "source": [
        "## Loading all the files   and separating labels and images "
      ],
      "metadata": {
        "id": "1cuHG4AKLEbs"
      }
    },
    {
      "cell_type": "code",
      "execution_count": null,
      "metadata": {
        "id": "h5vamwsyfbUz"
      },
      "outputs": [],
      "source": [
        "from os import walk\n",
        "import matplotlib.pyplot as plt\n",
        "path=\"/content/data\"\n",
        "\n",
        "filenames2 = next(walk(path), (None, None, []))[2]\n",
        "path=path+\"/\""
      ]
    },
    {
      "cell_type": "code",
      "source": [
        "filenames2.sort()"
      ],
      "metadata": {
        "id": "3RCgAPNetn53"
      },
      "execution_count": null,
      "outputs": []
    },
    {
      "cell_type": "code",
      "source": [
        "filenames2"
      ],
      "metadata": {
        "colab": {
          "base_uri": "https://localhost:8080/"
        },
        "id": "y71i0HSly5CH",
        "outputId": "dcf52f46-a89c-40d2-b6c3-09d224d85ca3"
      },
      "execution_count": null,
      "outputs": [
        {
          "output_type": "execute_result",
          "data": {
            "text/plain": [
              "['IMG_5983.JPG',\n",
              " 'IMG_5983.txt',\n",
              " 'IMG_5984.JPG',\n",
              " 'IMG_5984.txt',\n",
              " 'IMG_5985.JPG',\n",
              " 'IMG_5985.txt',\n",
              " 'IMG_5986.JPG',\n",
              " 'IMG_5986.txt',\n",
              " 'IMG_5987.JPG',\n",
              " 'IMG_5987.txt',\n",
              " 'IMG_5988.JPG',\n",
              " 'IMG_5988.txt',\n",
              " 'IMG_5989.JPG',\n",
              " 'IMG_5989.txt',\n",
              " 'IMG_5990.JPG',\n",
              " 'IMG_5990.txt',\n",
              " 'IMG_5991.JPG',\n",
              " 'IMG_5991.txt',\n",
              " 'IMG_5992.JPG',\n",
              " 'IMG_5992.txt',\n",
              " 'IMG_5993.JPG',\n",
              " 'IMG_5993.txt',\n",
              " 'IMG_5994.JPG',\n",
              " 'IMG_5994.txt',\n",
              " 'IMG_6056.JPG',\n",
              " 'IMG_6056.txt',\n",
              " 'IMG_6057.JPG',\n",
              " 'IMG_6057.txt',\n",
              " 'IMG_6058.JPG',\n",
              " 'IMG_6058.txt',\n",
              " 'IMG_6059.JPG',\n",
              " 'IMG_6059.txt',\n",
              " 'IMG_6060.JPG',\n",
              " 'IMG_6060.txt',\n",
              " 'IMG_6061.JPG',\n",
              " 'IMG_6061.txt',\n",
              " 'IMG_6062.JPG',\n",
              " 'IMG_6062.txt',\n",
              " 'IMG_6063.JPG',\n",
              " 'IMG_6063.txt',\n",
              " 'IMG_6064.JPG',\n",
              " 'IMG_6064.txt',\n",
              " 'IMG_6065.JPG',\n",
              " 'IMG_6065.txt',\n",
              " 'IMG_6128.JPG',\n",
              " 'IMG_6128.txt',\n",
              " 'IMG_6129.JPG',\n",
              " 'IMG_6129.txt',\n",
              " 'IMG_6130.JPG',\n",
              " 'IMG_6130.txt',\n",
              " 'IMG_6131.JPG',\n",
              " 'IMG_6131.txt',\n",
              " 'IMG_6132.JPG',\n",
              " 'IMG_6132.txt',\n",
              " 'IMG_6133.JPG',\n",
              " 'IMG_6133.txt',\n",
              " 'IMG_6135.JPG',\n",
              " 'IMG_6135.txt',\n",
              " 'IMG_6136.JPG',\n",
              " 'IMG_6136.txt',\n",
              " 'IMG_6137.JPG',\n",
              " 'IMG_6137.txt',\n",
              " 'IMG_6138.JPG',\n",
              " 'IMG_6138.txt',\n",
              " 'IMG_6139.JPG',\n",
              " 'IMG_6139.txt',\n",
              " 'IMG_6140.JPG',\n",
              " 'IMG_6140.txt',\n",
              " 'IMG_6142.JPG',\n",
              " 'IMG_6142.txt',\n",
              " 'IMG_6143.JPG',\n",
              " 'IMG_6143.txt',\n",
              " 'IMG_6144.JPG',\n",
              " 'IMG_6144.txt',\n",
              " 'IMG_6145.JPG',\n",
              " 'IMG_6145.txt',\n",
              " 'IMG_6146.JPG',\n",
              " 'IMG_6146.txt',\n",
              " 'IMG_6147.JPG',\n",
              " 'IMG_6147.txt',\n",
              " 'IMG_6148.JPG',\n",
              " 'IMG_6148.txt',\n",
              " 'IMG_6149.JPG',\n",
              " 'IMG_6149.txt',\n",
              " 'IMG_6150.JPG',\n",
              " 'IMG_6150.txt',\n",
              " 'IMG_6151.JPG',\n",
              " 'IMG_6151.txt',\n",
              " 'IMG_6152.JPG',\n",
              " 'IMG_6152.txt',\n",
              " 'IMG_6153.JPG',\n",
              " 'IMG_6153.txt',\n",
              " 'IMG_6155.JPG',\n",
              " 'IMG_6155.txt',\n",
              " 'IMG_6156.JPG',\n",
              " 'IMG_6156.txt',\n",
              " 'IMG_6157.JPG',\n",
              " 'IMG_6157.txt',\n",
              " 'IMG_6158.JPG',\n",
              " 'IMG_6158.txt',\n",
              " 'IMG_6162.JPG',\n",
              " 'IMG_6162.txt',\n",
              " 'IMG_6163.JPG',\n",
              " 'IMG_6163.txt',\n",
              " 'IMG_6164.JPG',\n",
              " 'IMG_6164.txt',\n",
              " 'IMG_6165.JPG',\n",
              " 'IMG_6165.txt',\n",
              " 'IMG_6166.JPG',\n",
              " 'IMG_6166.txt',\n",
              " 'IMG_6167.JPG',\n",
              " 'IMG_6167.txt',\n",
              " 'IMG_6168.JPG',\n",
              " 'IMG_6168.txt',\n",
              " 'IMG_6169.JPG',\n",
              " 'IMG_6169.txt',\n",
              " 'IMG_6170.JPG',\n",
              " 'IMG_6170.txt',\n",
              " 'IMG_6171.jpg',\n",
              " 'IMG_6171.txt',\n",
              " 'anna-kumpan-sL1E3sUxcAs-unsplash.jpg',\n",
              " 'anna-kumpan-sL1E3sUxcAs-unsplash.txt',\n",
              " 'ella-olsson-nZAem1CDE9s-unsplash.jpg',\n",
              " 'ella-olsson-nZAem1CDE9s-unsplash.txt',\n",
              " 'george-pagan-iii-A6Tb2k0p2ck-unsplash.jpg',\n",
              " 'george-pagan-iii-A6Tb2k0p2ck-unsplash.txt',\n",
              " 'insung-yoon-Fuf2BjSZcvw-unsplash.jpg',\n",
              " 'insung-yoon-Fuf2BjSZcvw-unsplash.txt',\n",
              " 'jaqueline-pelzer-neUW-U0NwCU-unsplash.jpg',\n",
              " 'jaqueline-pelzer-neUW-U0NwCU-unsplash.txt',\n",
              " 'jean-marc-vieregge-Q9IGFfztBe4-unsplash.jpg',\n",
              " 'jean-marc-vieregge-Q9IGFfztBe4-unsplash.txt',\n",
              " 'katsia-jazwinska-Xj-VeQinDcU-unsplash.jpg',\n",
              " 'katsia-jazwinska-Xj-VeQinDcU-unsplash.txt',\n",
              " 'khloe-arledge--GjyAyPSMQg-unsplash.jpg',\n",
              " 'khloe-arledge--GjyAyPSMQg-unsplash.txt',\n",
              " 'louis-hansel-HwInI4ZRYrk-unsplash.jpg',\n",
              " 'louis-hansel-HwInI4ZRYrk-unsplash.txt',\n",
              " 'maddi-bazzocco-xoP2YeMMGc4-unsplash.jpg',\n",
              " 'maddi-bazzocco-xoP2YeMMGc4-unsplash.txt',\n",
              " 'max-griss-gU_FhzOYTDw-unsplash.jpg',\n",
              " 'max-griss-gU_FhzOYTDw-unsplash.txt',\n",
              " 'meghna-r-YmEoHKxhOqg-unsplash.jpg',\n",
              " 'meghna-r-YmEoHKxhOqg-unsplash.txt',\n",
              " 'metin-ozer-aNB-zUAV1wI-unsplash.jpg',\n",
              " 'metin-ozer-aNB-zUAV1wI-unsplash.txt',\n",
              " 'micheile-dot-com-0fHW9aPYJYo-unsplash.jpg',\n",
              " 'micheile-dot-com-0fHW9aPYJYo-unsplash.txt',\n",
              " 'mockup-graphics-CTUrsRRZn20-unsplash.jpg',\n",
              " 'mockup-graphics-CTUrsRRZn20-unsplash.txt',\n",
              " 'naghme-kn-KPo27NCBZjA-unsplash.jpg',\n",
              " 'naghme-kn-KPo27NCBZjA-unsplash.txt',\n",
              " 'pexels-dominika-roseclay-977844.jpg',\n",
              " 'pexels-dominika-roseclay-977844.txt',\n",
              " 'pexels-engin-akyurt-1907642.jpg',\n",
              " 'pexels-engin-akyurt-1907642.txt',\n",
              " 'pexels-jamie-he-563067.jpg',\n",
              " 'pexels-jamie-he-563067.txt',\n",
              " 'pexels-jess-bailey-designs-788945.jpg',\n",
              " 'pexels-jess-bailey-designs-788945.txt',\n",
              " 'pexels-karolina-grabowska-4397820.jpg',\n",
              " 'pexels-karolina-grabowska-4397820.txt',\n",
              " 'pexels-lisa-fotios-1147993.jpg',\n",
              " 'pexels-lisa-fotios-1147993.txt',\n",
              " 'pexels-oleg-magni-890456.jpg',\n",
              " 'pexels-oleg-magni-890456.txt',\n",
              " 'pexels-photomix-company-291767.jpg',\n",
              " 'pexels-photomix-company-291767.txt',\n",
              " 'pexels-vegan-liftz-2377166.jpg',\n",
              " 'pexels-vegan-liftz-2377166.txt',\n",
              " 'pickled-stardust-C003qewG6mM-unsplash.jpg',\n",
              " 'pickled-stardust-C003qewG6mM-unsplash.txt',\n",
              " 'raul-angel-LWqhdOzSlU4-unsplash.jpg',\n",
              " 'raul-angel-LWqhdOzSlU4-unsplash.txt',\n",
              " 'raul-angel-gaftCuyofVg-unsplash.jpg',\n",
              " 'raul-angel-gaftCuyofVg-unsplash.txt',\n",
              " 'raul-angel-ph9GV_xQlY8-unsplash.jpg',\n",
              " 'raul-angel-ph9GV_xQlY8-unsplash.txt',\n",
              " 'sixteen-miles-out-IgARjuDtIgI-unsplash.jpg',\n",
              " 'sixteen-miles-out-IgARjuDtIgI-unsplash.txt']"
            ]
          },
          "metadata": {},
          "execution_count": 10
        }
      ]
    },
    {
      "cell_type": "code",
      "execution_count": null,
      "metadata": {
        "id": "Ne258PSKfkW9"
      },
      "outputs": [],
      "source": [
        "label=[i for i in filenames2 if i.endswith('.txt')]\n",
        "images=[i for i in filenames2 if i.endswith('.jpg') or i.endswith('.JPG')]"
      ]
    },
    {
      "cell_type": "code",
      "execution_count": null,
      "metadata": {
        "id": "vwCb43ytfqAZ"
      },
      "outputs": [],
      "source": [
        "label1=[path + s for s in label]\n",
        "images1=[path + s for s in images]\n"
      ]
    },
    {
      "cell_type": "code",
      "source": [
        "len(images1)"
      ],
      "metadata": {
        "colab": {
          "base_uri": "https://localhost:8080/"
        },
        "id": "C2rmIxUI14wu",
        "outputId": "7ff56cf2-5bbb-43a6-db1e-9436deb0ede8"
      },
      "execution_count": null,
      "outputs": [
        {
          "output_type": "execute_result",
          "data": {
            "text/plain": [
              "90"
            ]
          },
          "metadata": {},
          "execution_count": 13
        }
      ]
    },
    {
      "cell_type": "code",
      "source": [
        "images1[:4]"
      ],
      "metadata": {
        "colab": {
          "base_uri": "https://localhost:8080/"
        },
        "id": "5GfFd8M9t7j_",
        "outputId": "c6a24802-f5af-4f7a-854d-0ecb6581a44f"
      },
      "execution_count": null,
      "outputs": [
        {
          "output_type": "execute_result",
          "data": {
            "text/plain": [
              "['/content/data/IMG_5983.JPG',\n",
              " '/content/data/IMG_5984.JPG',\n",
              " '/content/data/IMG_5985.JPG',\n",
              " '/content/data/IMG_5986.JPG']"
            ]
          },
          "metadata": {},
          "execution_count": 14
        }
      ]
    },
    {
      "cell_type": "code",
      "source": [
        "len(label1)"
      ],
      "metadata": {
        "colab": {
          "base_uri": "https://localhost:8080/"
        },
        "id": "lwZVX9ma1pAU",
        "outputId": "b937523c-3686-455a-d68f-ddeab0c86590"
      },
      "execution_count": null,
      "outputs": [
        {
          "output_type": "execute_result",
          "data": {
            "text/plain": [
              "90"
            ]
          },
          "metadata": {},
          "execution_count": 15
        }
      ]
    },
    {
      "cell_type": "code",
      "source": [
        "label1[:4]"
      ],
      "metadata": {
        "colab": {
          "base_uri": "https://localhost:8080/"
        },
        "id": "85a4QUFZt7bu",
        "outputId": "e5524432-bef1-48ad-9679-4755894b4421"
      },
      "execution_count": null,
      "outputs": [
        {
          "output_type": "execute_result",
          "data": {
            "text/plain": [
              "['/content/data/IMG_5983.txt',\n",
              " '/content/data/IMG_5984.txt',\n",
              " '/content/data/IMG_5985.txt',\n",
              " '/content/data/IMG_5986.txt']"
            ]
          },
          "metadata": {},
          "execution_count": 16
        }
      ]
    },
    {
      "cell_type": "markdown",
      "source": [
        "## Splitting the data into random training and testing."
      ],
      "metadata": {
        "id": "7eAVxx3iLSCE"
      }
    },
    {
      "cell_type": "code",
      "execution_count": null,
      "metadata": {
        "id": "a1QsTTy0fxLp"
      },
      "outputs": [],
      "source": [
        "import matplotlib.pyplot as plt\n",
        "from sklearn.model_selection import train_test_split\n",
        "X_train, X_test, y_train, y_test = train_test_split(images1, label1, test_size=0.33, random_state=42)\n"
      ]
    },
    {
      "cell_type": "markdown",
      "source": [
        "# Coppying the files into respective folders"
      ],
      "metadata": {
        "id": "h0WFFTl3Lf7Q"
      }
    },
    {
      "cell_type": "code",
      "source": [],
      "metadata": {
        "id": "gmP4TDSyz7zX"
      },
      "execution_count": null,
      "outputs": []
    },
    {
      "cell_type": "code",
      "execution_count": null,
      "metadata": {
        "id": "8dIDRCCKfzaB"
      },
      "outputs": [],
      "source": [
        "import shutil\n",
        "\n",
        "dst=\"/content/train/images\"\n",
        "for i in X_train:\n",
        "    src=i\n",
        "    shutil.copy2(src, dst)\n"
      ]
    },
    {
      "cell_type": "code",
      "execution_count": null,
      "metadata": {
        "id": "YxuGxWW0f7p3"
      },
      "outputs": [],
      "source": [
        "dst=\"/content/val/images\"\n",
        "for i in X_test:\n",
        "    src=i\n",
        "    shutil.copy2(src, dst)\n"
      ]
    },
    {
      "cell_type": "code",
      "execution_count": null,
      "metadata": {
        "id": "NJae1CcGgGrt"
      },
      "outputs": [],
      "source": [
        "dst=\"/content/train/labels\"\n",
        "for i in y_train:\n",
        "    src=i\n",
        "    shutil.copy2(src, dst)"
      ]
    },
    {
      "cell_type": "code",
      "execution_count": null,
      "metadata": {
        "id": "2eSaRJ-0gMt8"
      },
      "outputs": [],
      "source": [
        "dst=\"/content/val/labels\"\n",
        "for i in y_test:\n",
        "    src=i\n",
        "    shutil.copy2(src, dst)\n"
      ]
    },
    {
      "cell_type": "markdown",
      "source": [
        "##  Clonning YoloV5 and installing requirements "
      ],
      "metadata": {
        "id": "L3YMEIaYLrtk"
      }
    },
    {
      "cell_type": "code",
      "execution_count": null,
      "metadata": {
        "colab": {
          "base_uri": "https://localhost:8080/"
        },
        "id": "go53ieLugTJY",
        "outputId": "5654423c-5b79-42b5-e15b-693a4b634532"
      },
      "outputs": [
        {
          "output_type": "stream",
          "name": "stdout",
          "text": [
            "fatal: destination path 'yolov5' already exists and is not an empty directory.\n",
            "Requirement already satisfied: matplotlib>=3.2.2 in /usr/local/lib/python3.7/dist-packages (from -r yolov5/requirements.txt (line 4)) (3.2.2)\n",
            "Requirement already satisfied: numpy>=1.18.5 in /usr/local/lib/python3.7/dist-packages (from -r yolov5/requirements.txt (line 5)) (1.21.6)\n",
            "Requirement already satisfied: opencv-python>=4.1.2 in /usr/local/lib/python3.7/dist-packages (from -r yolov5/requirements.txt (line 6)) (4.1.2.30)\n",
            "Requirement already satisfied: Pillow>=7.1.2 in /usr/local/lib/python3.7/dist-packages (from -r yolov5/requirements.txt (line 7)) (7.1.2)\n",
            "Requirement already satisfied: PyYAML>=5.3.1 in /usr/local/lib/python3.7/dist-packages (from -r yolov5/requirements.txt (line 8)) (6.0)\n",
            "Requirement already satisfied: requests>=2.23.0 in /usr/local/lib/python3.7/dist-packages (from -r yolov5/requirements.txt (line 9)) (2.23.0)\n",
            "Requirement already satisfied: scipy>=1.4.1 in /usr/local/lib/python3.7/dist-packages (from -r yolov5/requirements.txt (line 10)) (1.4.1)\n",
            "Requirement already satisfied: torch>=1.7.0 in /usr/local/lib/python3.7/dist-packages (from -r yolov5/requirements.txt (line 11)) (1.10.0+cu111)\n",
            "Requirement already satisfied: torchvision>=0.8.1 in /usr/local/lib/python3.7/dist-packages (from -r yolov5/requirements.txt (line 12)) (0.11.1+cu111)\n",
            "Requirement already satisfied: tqdm>=4.41.0 in /usr/local/lib/python3.7/dist-packages (from -r yolov5/requirements.txt (line 13)) (4.64.0)\n",
            "Requirement already satisfied: tensorboard>=2.4.1 in /usr/local/lib/python3.7/dist-packages (from -r yolov5/requirements.txt (line 16)) (2.8.0)\n",
            "Requirement already satisfied: pandas>=1.1.4 in /usr/local/lib/python3.7/dist-packages (from -r yolov5/requirements.txt (line 20)) (1.3.5)\n",
            "Requirement already satisfied: seaborn>=0.11.0 in /usr/local/lib/python3.7/dist-packages (from -r yolov5/requirements.txt (line 21)) (0.11.2)\n",
            "Requirement already satisfied: thop in /usr/local/lib/python3.7/dist-packages (from -r yolov5/requirements.txt (line 37)) (0.0.31.post2005241907)\n",
            "Requirement already satisfied: pyparsing!=2.0.4,!=2.1.2,!=2.1.6,>=2.0.1 in /usr/local/lib/python3.7/dist-packages (from matplotlib>=3.2.2->-r yolov5/requirements.txt (line 4)) (3.0.8)\n",
            "Requirement already satisfied: python-dateutil>=2.1 in /usr/local/lib/python3.7/dist-packages (from matplotlib>=3.2.2->-r yolov5/requirements.txt (line 4)) (2.8.2)\n",
            "Requirement already satisfied: cycler>=0.10 in /usr/local/lib/python3.7/dist-packages (from matplotlib>=3.2.2->-r yolov5/requirements.txt (line 4)) (0.11.0)\n",
            "Requirement already satisfied: kiwisolver>=1.0.1 in /usr/local/lib/python3.7/dist-packages (from matplotlib>=3.2.2->-r yolov5/requirements.txt (line 4)) (1.4.2)\n",
            "Requirement already satisfied: idna<3,>=2.5 in /usr/local/lib/python3.7/dist-packages (from requests>=2.23.0->-r yolov5/requirements.txt (line 9)) (2.10)\n",
            "Requirement already satisfied: urllib3!=1.25.0,!=1.25.1,<1.26,>=1.21.1 in /usr/local/lib/python3.7/dist-packages (from requests>=2.23.0->-r yolov5/requirements.txt (line 9)) (1.24.3)\n",
            "Requirement already satisfied: chardet<4,>=3.0.2 in /usr/local/lib/python3.7/dist-packages (from requests>=2.23.0->-r yolov5/requirements.txt (line 9)) (3.0.4)\n",
            "Requirement already satisfied: certifi>=2017.4.17 in /usr/local/lib/python3.7/dist-packages (from requests>=2.23.0->-r yolov5/requirements.txt (line 9)) (2021.10.8)\n",
            "Requirement already satisfied: typing-extensions in /usr/local/lib/python3.7/dist-packages (from torch>=1.7.0->-r yolov5/requirements.txt (line 11)) (4.1.1)\n",
            "Requirement already satisfied: wheel>=0.26 in /usr/local/lib/python3.7/dist-packages (from tensorboard>=2.4.1->-r yolov5/requirements.txt (line 16)) (0.37.1)\n",
            "Requirement already satisfied: markdown>=2.6.8 in /usr/local/lib/python3.7/dist-packages (from tensorboard>=2.4.1->-r yolov5/requirements.txt (line 16)) (3.3.6)\n",
            "Requirement already satisfied: tensorboard-plugin-wit>=1.6.0 in /usr/local/lib/python3.7/dist-packages (from tensorboard>=2.4.1->-r yolov5/requirements.txt (line 16)) (1.8.1)\n",
            "Requirement already satisfied: werkzeug>=0.11.15 in /usr/local/lib/python3.7/dist-packages (from tensorboard>=2.4.1->-r yolov5/requirements.txt (line 16)) (1.0.1)\n",
            "Requirement already satisfied: tensorboard-data-server<0.7.0,>=0.6.0 in /usr/local/lib/python3.7/dist-packages (from tensorboard>=2.4.1->-r yolov5/requirements.txt (line 16)) (0.6.1)\n",
            "Requirement already satisfied: google-auth-oauthlib<0.5,>=0.4.1 in /usr/local/lib/python3.7/dist-packages (from tensorboard>=2.4.1->-r yolov5/requirements.txt (line 16)) (0.4.6)\n",
            "Requirement already satisfied: setuptools>=41.0.0 in /usr/local/lib/python3.7/dist-packages (from tensorboard>=2.4.1->-r yolov5/requirements.txt (line 16)) (57.4.0)\n",
            "Requirement already satisfied: protobuf>=3.6.0 in /usr/local/lib/python3.7/dist-packages (from tensorboard>=2.4.1->-r yolov5/requirements.txt (line 16)) (3.17.3)\n",
            "Requirement already satisfied: absl-py>=0.4 in /usr/local/lib/python3.7/dist-packages (from tensorboard>=2.4.1->-r yolov5/requirements.txt (line 16)) (1.0.0)\n",
            "Requirement already satisfied: grpcio>=1.24.3 in /usr/local/lib/python3.7/dist-packages (from tensorboard>=2.4.1->-r yolov5/requirements.txt (line 16)) (1.44.0)\n",
            "Requirement already satisfied: google-auth<3,>=1.6.3 in /usr/local/lib/python3.7/dist-packages (from tensorboard>=2.4.1->-r yolov5/requirements.txt (line 16)) (1.35.0)\n",
            "Requirement already satisfied: pytz>=2017.3 in /usr/local/lib/python3.7/dist-packages (from pandas>=1.1.4->-r yolov5/requirements.txt (line 20)) (2022.1)\n",
            "Requirement already satisfied: six in /usr/local/lib/python3.7/dist-packages (from absl-py>=0.4->tensorboard>=2.4.1->-r yolov5/requirements.txt (line 16)) (1.15.0)\n",
            "Requirement already satisfied: rsa<5,>=3.1.4 in /usr/local/lib/python3.7/dist-packages (from google-auth<3,>=1.6.3->tensorboard>=2.4.1->-r yolov5/requirements.txt (line 16)) (4.8)\n",
            "Requirement already satisfied: cachetools<5.0,>=2.0.0 in /usr/local/lib/python3.7/dist-packages (from google-auth<3,>=1.6.3->tensorboard>=2.4.1->-r yolov5/requirements.txt (line 16)) (4.2.4)\n",
            "Requirement already satisfied: pyasn1-modules>=0.2.1 in /usr/local/lib/python3.7/dist-packages (from google-auth<3,>=1.6.3->tensorboard>=2.4.1->-r yolov5/requirements.txt (line 16)) (0.2.8)\n",
            "Requirement already satisfied: requests-oauthlib>=0.7.0 in /usr/local/lib/python3.7/dist-packages (from google-auth-oauthlib<0.5,>=0.4.1->tensorboard>=2.4.1->-r yolov5/requirements.txt (line 16)) (1.3.1)\n",
            "Requirement already satisfied: importlib-metadata>=4.4 in /usr/local/lib/python3.7/dist-packages (from markdown>=2.6.8->tensorboard>=2.4.1->-r yolov5/requirements.txt (line 16)) (4.11.3)\n",
            "Requirement already satisfied: zipp>=0.5 in /usr/local/lib/python3.7/dist-packages (from importlib-metadata>=4.4->markdown>=2.6.8->tensorboard>=2.4.1->-r yolov5/requirements.txt (line 16)) (3.8.0)\n",
            "Requirement already satisfied: pyasn1<0.5.0,>=0.4.6 in /usr/local/lib/python3.7/dist-packages (from pyasn1-modules>=0.2.1->google-auth<3,>=1.6.3->tensorboard>=2.4.1->-r yolov5/requirements.txt (line 16)) (0.4.8)\n",
            "Requirement already satisfied: oauthlib>=3.0.0 in /usr/local/lib/python3.7/dist-packages (from requests-oauthlib>=0.7.0->google-auth-oauthlib<0.5,>=0.4.1->tensorboard>=2.4.1->-r yolov5/requirements.txt (line 16)) (3.2.0)\n",
            "/content/yolov5\n"
          ]
        }
      ],
      "source": [
        "!git clone https://github.com/ultralytics/yolov5  # clone repo\n",
        "!pip install -r yolov5/requirements.txt  # install dependencies\n",
        "%cd yolov5"
      ]
    },
    {
      "cell_type": "markdown",
      "source": [
        "# Training the data"
      ],
      "metadata": {
        "id": "PXei0WovLvwu"
      }
    },
    {
      "cell_type": "code",
      "execution_count": null,
      "metadata": {
        "id": "E-ujF4RxgaBg",
        "colab": {
          "base_uri": "https://localhost:8080/"
        },
        "outputId": "9c1e3c3a-f143-487d-c600-abdbf3c104ff"
      },
      "outputs": [
        {
          "output_type": "stream",
          "name": "stdout",
          "text": [
            "\u001b[34m\u001b[1mtrain: \u001b[0mweights=yolov5s.pt, cfg=, data=/content/yolov5/data/sp.yaml, hyp=data/hyps/hyp.scratch-low.yaml, epochs=4, batch_size=8, imgsz=640, rect=False, resume=False, nosave=False, noval=False, noautoanchor=False, noplots=False, evolve=None, bucket=, cache=ram, image_weights=False, device=, multi_scale=False, single_cls=False, optimizer=SGD, sync_bn=False, workers=8, project=runs/train, name=exp, exist_ok=False, quad=False, cos_lr=False, label_smoothing=0.0, patience=100, freeze=[0], save_period=-1, local_rank=-1, entity=None, upload_dataset=False, bbox_interval=-1, artifact_alias=latest\n",
            "\u001b[34m\u001b[1mgithub: \u001b[0mup to date with https://github.com/ultralytics/yolov5 ✅\n",
            "YOLOv5 🚀 v6.1-157-g7043872 torch 1.10.0+cu111 CUDA:0 (Tesla T4, 15110MiB)\n",
            "\n",
            "\u001b[34m\u001b[1mhyperparameters: \u001b[0mlr0=0.01, lrf=0.01, momentum=0.937, weight_decay=0.0005, warmup_epochs=3.0, warmup_momentum=0.8, warmup_bias_lr=0.1, box=0.05, cls=0.5, cls_pw=1.0, obj=1.0, obj_pw=1.0, iou_t=0.2, anchor_t=4.0, fl_gamma=0.0, hsv_h=0.015, hsv_s=0.7, hsv_v=0.4, degrees=0.0, translate=0.1, scale=0.5, shear=0.0, perspective=0.0, flipud=0.0, fliplr=0.5, mosaic=1.0, mixup=0.0, copy_paste=0.0\n",
            "\u001b[34m\u001b[1mWeights & Biases: \u001b[0mrun 'pip install wandb' to automatically track and visualize YOLOv5 🚀 runs (RECOMMENDED)\n",
            "\u001b[34m\u001b[1mTensorBoard: \u001b[0mStart with 'tensorboard --logdir runs/train', view at http://localhost:6006/\n",
            "Overriding model.yaml nc=80 with nc=2\n",
            "\n",
            "                 from  n    params  module                                  arguments                     \n",
            "  0                -1  1      3520  models.common.Conv                      [3, 32, 6, 2, 2]              \n",
            "  1                -1  1     18560  models.common.Conv                      [32, 64, 3, 2]                \n",
            "  2                -1  1     18816  models.common.C3                        [64, 64, 1]                   \n",
            "  3                -1  1     73984  models.common.Conv                      [64, 128, 3, 2]               \n",
            "  4                -1  2    115712  models.common.C3                        [128, 128, 2]                 \n",
            "  5                -1  1    295424  models.common.Conv                      [128, 256, 3, 2]              \n",
            "  6                -1  3    625152  models.common.C3                        [256, 256, 3]                 \n",
            "  7                -1  1   1180672  models.common.Conv                      [256, 512, 3, 2]              \n",
            "  8                -1  1   1182720  models.common.C3                        [512, 512, 1]                 \n",
            "  9                -1  1    656896  models.common.SPPF                      [512, 512, 5]                 \n",
            " 10                -1  1    131584  models.common.Conv                      [512, 256, 1, 1]              \n",
            " 11                -1  1         0  torch.nn.modules.upsampling.Upsample    [None, 2, 'nearest']          \n",
            " 12           [-1, 6]  1         0  models.common.Concat                    [1]                           \n",
            " 13                -1  1    361984  models.common.C3                        [512, 256, 1, False]          \n",
            " 14                -1  1     33024  models.common.Conv                      [256, 128, 1, 1]              \n",
            " 15                -1  1         0  torch.nn.modules.upsampling.Upsample    [None, 2, 'nearest']          \n",
            " 16           [-1, 4]  1         0  models.common.Concat                    [1]                           \n",
            " 17                -1  1     90880  models.common.C3                        [256, 128, 1, False]          \n",
            " 18                -1  1    147712  models.common.Conv                      [128, 128, 3, 2]              \n",
            " 19          [-1, 14]  1         0  models.common.Concat                    [1]                           \n",
            " 20                -1  1    296448  models.common.C3                        [256, 256, 1, False]          \n",
            " 21                -1  1    590336  models.common.Conv                      [256, 256, 3, 2]              \n",
            " 22          [-1, 10]  1         0  models.common.Concat                    [1]                           \n",
            " 23                -1  1   1182720  models.common.C3                        [512, 512, 1, False]          \n",
            " 24      [17, 20, 23]  1     18879  models.yolo.Detect                      [2, [[10, 13, 16, 30, 33, 23], [30, 61, 62, 45, 59, 119], [116, 90, 156, 198, 373, 326]], [128, 256, 512]]\n",
            "Model summary: 270 layers, 7025023 parameters, 7025023 gradients, 15.9 GFLOPs\n",
            "\n",
            "Transferred 343/349 items from yolov5s.pt\n",
            "Scaled weight_decay = 0.0005\n",
            "\u001b[34m\u001b[1moptimizer:\u001b[0m SGD with parameter groups 57 weight (no decay), 60 weight, 60 bias\n",
            "\u001b[34m\u001b[1malbumentations: \u001b[0mversion 1.0.3 required by YOLOv5, but version 0.1.12 is currently installed\n",
            "\u001b[34m\u001b[1mtrain: \u001b[0mScanning '/content/train/labels.cache' images and labels... 60 found, 0 missing, 0 empty, 0 corrupt: 100% 60/60 [00:00<?, ?it/s]\n",
            "\u001b[34m\u001b[1mtrain: \u001b[0mCaching images (0.1GB ram): 100% 60/60 [00:18<00:00,  3.21it/s]\n",
            "\u001b[34m\u001b[1mval: \u001b[0mScanning '/content/val/labels.cache' images and labels... 30 found, 0 missing, 0 empty, 0 corrupt: 100% 30/30 [00:00<?, ?it/s]\n",
            "\u001b[34m\u001b[1mval: \u001b[0mCaching images (0.0GB ram): 100% 30/30 [00:10<00:00,  2.86it/s]\n",
            "Plotting labels to runs/train/exp2/labels.jpg... \n",
            "\n",
            "\u001b[34m\u001b[1mAutoAnchor: \u001b[0m2.74 anchors/target, 1.000 Best Possible Recall (BPR). Current anchors are a good fit to dataset ✅\n",
            "Image sizes 640 train, 640 val\n",
            "Using 2 dataloader workers\n",
            "Logging results to \u001b[1mruns/train/exp2\u001b[0m\n",
            "Starting training for 4 epochs...\n",
            "\n",
            "     Epoch   gpu_mem       box       obj       cls    labels  img_size\n",
            "       0/3     1.88G   0.09981   0.02832    0.0243         6       640: 100% 8/8 [00:03<00:00,  2.48it/s]\n",
            "               Class     Images     Labels          P          R     mAP@.5 mAP@.5:.95: 100% 2/2 [00:00<00:00,  2.02it/s]\n",
            "                 all         30         45     0.0175      0.145    0.00702    0.00101\n",
            "\n",
            "     Epoch   gpu_mem       box       obj       cls    labels  img_size\n",
            "       1/3     2.17G   0.09777   0.02912   0.02317        11       640: 100% 8/8 [00:01<00:00,  7.43it/s]\n",
            "               Class     Images     Labels          P          R     mAP@.5 mAP@.5:.95: 100% 2/2 [00:00<00:00,  2.20it/s]\n",
            "                 all         30         45     0.0158       0.26    0.00857    0.00106\n",
            "\n",
            "     Epoch   gpu_mem       box       obj       cls    labels  img_size\n",
            "       2/3     2.17G   0.08683   0.02931   0.02315         8       640: 100% 8/8 [00:01<00:00,  7.65it/s]\n",
            "               Class     Images     Labels          P          R     mAP@.5 mAP@.5:.95: 100% 2/2 [00:00<00:00,  2.38it/s]\n",
            "                 all         30         45     0.0222      0.275     0.0132     0.0021\n",
            "\n",
            "     Epoch   gpu_mem       box       obj       cls    labels  img_size\n",
            "       3/3     2.17G   0.08998   0.03055   0.02392        13       640: 100% 8/8 [00:01<00:00,  7.58it/s]\n",
            "               Class     Images     Labels          P          R     mAP@.5 mAP@.5:.95: 100% 2/2 [00:00<00:00,  2.76it/s]\n",
            "                 all         30         45      0.102       0.05      0.022    0.00344\n",
            "\n",
            "4 epochs completed in 0.003 hours.\n",
            "Optimizer stripped from runs/train/exp2/weights/last.pt, 14.4MB\n",
            "Optimizer stripped from runs/train/exp2/weights/best.pt, 14.4MB\n",
            "\n",
            "Validating runs/train/exp2/weights/best.pt...\n",
            "Fusing layers... \n",
            "Model summary: 213 layers, 7015519 parameters, 0 gradients, 15.8 GFLOPs\n",
            "               Class     Images     Labels          P          R     mAP@.5 mAP@.5:.95: 100% 2/2 [00:01<00:00,  1.29it/s]\n",
            "                 all         30         45      0.101       0.05     0.0258    0.00375\n",
            "               plate         30         20      0.203        0.1     0.0466    0.00656\n",
            "               spoon         30         25          0          0    0.00506    0.00094\n",
            "Results saved to \u001b[1mruns/train/exp2\u001b[0m\n"
          ]
        }
      ],
      "source": [
        "!python3 train.py --img 640 --batch 8 --epochs 4 --data /content/yolov5/data/sp.yaml --weights yolov5s.pt --cache "
      ]
    },
    {
      "cell_type": "markdown",
      "source": [
        "# Running the trained model on input data to generate a video with bounding box."
      ],
      "metadata": {
        "id": "BAn2GuGMOLvE"
      }
    },
    {
      "cell_type": "code",
      "execution_count": null,
      "metadata": {
        "id": "Ab9NiJwChVR_",
        "colab": {
          "base_uri": "https://localhost:8080/"
        },
        "outputId": "6ac8cb47-f086-4637-9b87-3eccd943ccab"
      },
      "outputs": [
        {
          "output_type": "stream",
          "name": "stdout",
          "text": [
            "\u001b[34m\u001b[1mdetect: \u001b[0mweights=['/content/yolov5/runs/train/exp/weights/best.pt'], source=/content/video.mp4, data=data/coco128.yaml, imgsz=[640, 640], conf_thres=0.4, iou_thres=0.45, max_det=1000, device=, view_img=False, save_txt=False, save_conf=False, save_crop=False, nosave=False, classes=None, agnostic_nms=False, augment=False, visualize=False, update=False, project=runs/detect, name=exp, exist_ok=False, line_thickness=3, hide_labels=False, hide_conf=False, half=False, dnn=False\n",
            "YOLOv5 🚀 v6.1-157-g7043872 torch 1.10.0+cu111 CUDA:0 (Tesla T4, 15110MiB)\n",
            "\n",
            "Fusing layers... \n",
            "Model summary: 213 layers, 7015519 parameters, 0 gradients, 15.8 GFLOPs\n",
            "video 1/1 (1/621) /content/video.mp4: 640x384 Done. (0.014s)\n",
            "video 1/1 (2/621) /content/video.mp4: 640x384 Done. (0.013s)\n",
            "video 1/1 (3/621) /content/video.mp4: 640x384 Done. (0.015s)\n",
            "video 1/1 (4/621) /content/video.mp4: 640x384 Done. (0.015s)\n",
            "video 1/1 (5/621) /content/video.mp4: 640x384 Done. (0.013s)\n",
            "video 1/1 (6/621) /content/video.mp4: 640x384 Done. (0.013s)\n",
            "video 1/1 (7/621) /content/video.mp4: 640x384 Done. (0.014s)\n",
            "video 1/1 (8/621) /content/video.mp4: 640x384 Done. (0.015s)\n",
            "video 1/1 (9/621) /content/video.mp4: 640x384 Done. (0.015s)\n",
            "video 1/1 (10/621) /content/video.mp4: 640x384 Done. (0.014s)\n",
            "video 1/1 (11/621) /content/video.mp4: 640x384 Done. (0.011s)\n",
            "video 1/1 (12/621) /content/video.mp4: 640x384 Done. (0.011s)\n",
            "video 1/1 (13/621) /content/video.mp4: 640x384 Done. (0.011s)\n",
            "video 1/1 (14/621) /content/video.mp4: 640x384 Done. (0.010s)\n",
            "video 1/1 (15/621) /content/video.mp4: 640x384 Done. (0.010s)\n",
            "video 1/1 (16/621) /content/video.mp4: 640x384 Done. (0.010s)\n",
            "video 1/1 (17/621) /content/video.mp4: 640x384 Done. (0.010s)\n",
            "video 1/1 (18/621) /content/video.mp4: 640x384 Done. (0.010s)\n",
            "video 1/1 (19/621) /content/video.mp4: 640x384 Done. (0.010s)\n",
            "video 1/1 (20/621) /content/video.mp4: 640x384 Done. (0.010s)\n",
            "video 1/1 (21/621) /content/video.mp4: 640x384 Done. (0.010s)\n",
            "video 1/1 (22/621) /content/video.mp4: 640x384 Done. (0.010s)\n",
            "video 1/1 (23/621) /content/video.mp4: 640x384 Done. (0.010s)\n",
            "video 1/1 (24/621) /content/video.mp4: 640x384 Done. (0.010s)\n",
            "video 1/1 (25/621) /content/video.mp4: 640x384 Done. (0.009s)\n",
            "video 1/1 (26/621) /content/video.mp4: 640x384 Done. (0.009s)\n",
            "video 1/1 (27/621) /content/video.mp4: 640x384 Done. (0.009s)\n",
            "video 1/1 (28/621) /content/video.mp4: 640x384 Done. (0.009s)\n",
            "video 1/1 (29/621) /content/video.mp4: 640x384 Done. (0.009s)\n",
            "video 1/1 (30/621) /content/video.mp4: 640x384 Done. (0.013s)\n",
            "video 1/1 (31/621) /content/video.mp4: 640x384 Done. (0.012s)\n",
            "video 1/1 (32/621) /content/video.mp4: 640x384 Done. (0.009s)\n",
            "video 1/1 (33/621) /content/video.mp4: 640x384 Done. (0.009s)\n",
            "video 1/1 (34/621) /content/video.mp4: 640x384 Done. (0.009s)\n",
            "video 1/1 (35/621) /content/video.mp4: 640x384 Done. (0.009s)\n",
            "video 1/1 (36/621) /content/video.mp4: 640x384 Done. (0.009s)\n",
            "video 1/1 (37/621) /content/video.mp4: 640x384 Done. (0.009s)\n",
            "video 1/1 (38/621) /content/video.mp4: 640x384 Done. (0.009s)\n",
            "video 1/1 (39/621) /content/video.mp4: 640x384 Done. (0.008s)\n",
            "video 1/1 (40/621) /content/video.mp4: 640x384 Done. (0.008s)\n",
            "video 1/1 (41/621) /content/video.mp4: 640x384 Done. (0.009s)\n",
            "video 1/1 (42/621) /content/video.mp4: 640x384 Done. (0.013s)\n",
            "video 1/1 (43/621) /content/video.mp4: 640x384 Done. (0.009s)\n",
            "video 1/1 (44/621) /content/video.mp4: 640x384 Done. (0.009s)\n",
            "video 1/1 (45/621) /content/video.mp4: 640x384 Done. (0.009s)\n",
            "video 1/1 (46/621) /content/video.mp4: 640x384 Done. (0.009s)\n",
            "video 1/1 (47/621) /content/video.mp4: 640x384 Done. (0.009s)\n",
            "video 1/1 (48/621) /content/video.mp4: 640x384 Done. (0.009s)\n",
            "video 1/1 (49/621) /content/video.mp4: 640x384 Done. (0.008s)\n",
            "video 1/1 (50/621) /content/video.mp4: 640x384 Done. (0.008s)\n",
            "video 1/1 (51/621) /content/video.mp4: 640x384 Done. (0.008s)\n",
            "video 1/1 (52/621) /content/video.mp4: 640x384 Done. (0.009s)\n",
            "video 1/1 (53/621) /content/video.mp4: 640x384 Done. (0.008s)\n",
            "video 1/1 (54/621) /content/video.mp4: 640x384 Done. (0.009s)\n",
            "video 1/1 (55/621) /content/video.mp4: 640x384 Done. (0.009s)\n",
            "video 1/1 (56/621) /content/video.mp4: 640x384 Done. (0.008s)\n",
            "video 1/1 (57/621) /content/video.mp4: 640x384 Done. (0.008s)\n",
            "video 1/1 (58/621) /content/video.mp4: 640x384 Done. (0.008s)\n",
            "video 1/1 (59/621) /content/video.mp4: 640x384 Done. (0.009s)\n",
            "video 1/1 (60/621) /content/video.mp4: 640x384 Done. (0.008s)\n",
            "video 1/1 (61/621) /content/video.mp4: 640x384 Done. (0.009s)\n",
            "video 1/1 (62/621) /content/video.mp4: 640x384 Done. (0.008s)\n",
            "video 1/1 (63/621) /content/video.mp4: 640x384 Done. (0.009s)\n",
            "video 1/1 (64/621) /content/video.mp4: 640x384 Done. (0.008s)\n",
            "video 1/1 (65/621) /content/video.mp4: 640x384 Done. (0.009s)\n",
            "video 1/1 (66/621) /content/video.mp4: 640x384 Done. (0.009s)\n",
            "video 1/1 (67/621) /content/video.mp4: 640x384 Done. (0.008s)\n",
            "video 1/1 (68/621) /content/video.mp4: 640x384 Done. (0.011s)\n",
            "video 1/1 (69/621) /content/video.mp4: 640x384 Done. (0.009s)\n",
            "video 1/1 (70/621) /content/video.mp4: 640x384 Done. (0.008s)\n",
            "video 1/1 (71/621) /content/video.mp4: 640x384 Done. (0.009s)\n",
            "video 1/1 (72/621) /content/video.mp4: 640x384 Done. (0.008s)\n",
            "video 1/1 (73/621) /content/video.mp4: 640x384 Done. (0.008s)\n",
            "video 1/1 (74/621) /content/video.mp4: 640x384 Done. (0.009s)\n",
            "video 1/1 (75/621) /content/video.mp4: 640x384 Done. (0.008s)\n",
            "video 1/1 (76/621) /content/video.mp4: 640x384 Done. (0.008s)\n",
            "video 1/1 (77/621) /content/video.mp4: 640x384 Done. (0.009s)\n",
            "video 1/1 (78/621) /content/video.mp4: 640x384 Done. (0.009s)\n",
            "video 1/1 (79/621) /content/video.mp4: 640x384 Done. (0.009s)\n",
            "video 1/1 (80/621) /content/video.mp4: 640x384 Done. (0.008s)\n",
            "video 1/1 (81/621) /content/video.mp4: 640x384 Done. (0.011s)\n",
            "video 1/1 (82/621) /content/video.mp4: 640x384 Done. (0.008s)\n",
            "video 1/1 (83/621) /content/video.mp4: 640x384 Done. (0.010s)\n",
            "video 1/1 (84/621) /content/video.mp4: 640x384 Done. (0.008s)\n",
            "video 1/1 (85/621) /content/video.mp4: 640x384 Done. (0.008s)\n",
            "video 1/1 (86/621) /content/video.mp4: 640x384 Done. (0.009s)\n",
            "video 1/1 (87/621) /content/video.mp4: 640x384 Done. (0.008s)\n",
            "video 1/1 (88/621) /content/video.mp4: 640x384 Done. (0.013s)\n",
            "video 1/1 (89/621) /content/video.mp4: 640x384 Done. (0.009s)\n",
            "video 1/1 (90/621) /content/video.mp4: 640x384 Done. (0.008s)\n",
            "video 1/1 (91/621) /content/video.mp4: 640x384 Done. (0.008s)\n",
            "video 1/1 (92/621) /content/video.mp4: 640x384 Done. (0.009s)\n",
            "video 1/1 (93/621) /content/video.mp4: 640x384 Done. (0.008s)\n",
            "video 1/1 (94/621) /content/video.mp4: 640x384 Done. (0.009s)\n",
            "video 1/1 (95/621) /content/video.mp4: 640x384 Done. (0.009s)\n",
            "video 1/1 (96/621) /content/video.mp4: 640x384 Done. (0.009s)\n",
            "video 1/1 (97/621) /content/video.mp4: 640x384 Done. (0.008s)\n",
            "video 1/1 (98/621) /content/video.mp4: 640x384 Done. (0.008s)\n",
            "video 1/1 (99/621) /content/video.mp4: 640x384 Done. (0.008s)\n",
            "video 1/1 (100/621) /content/video.mp4: 640x384 Done. (0.010s)\n",
            "video 1/1 (101/621) /content/video.mp4: 640x384 Done. (0.008s)\n",
            "video 1/1 (102/621) /content/video.mp4: 640x384 Done. (0.008s)\n",
            "video 1/1 (103/621) /content/video.mp4: 640x384 Done. (0.008s)\n",
            "video 1/1 (104/621) /content/video.mp4: 640x384 Done. (0.008s)\n",
            "video 1/1 (105/621) /content/video.mp4: 640x384 Done. (0.008s)\n",
            "video 1/1 (106/621) /content/video.mp4: 640x384 Done. (0.009s)\n",
            "video 1/1 (107/621) /content/video.mp4: 640x384 Done. (0.008s)\n",
            "video 1/1 (108/621) /content/video.mp4: 640x384 Done. (0.008s)\n",
            "video 1/1 (109/621) /content/video.mp4: 640x384 Done. (0.008s)\n",
            "video 1/1 (110/621) /content/video.mp4: 640x384 Done. (0.008s)\n",
            "video 1/1 (111/621) /content/video.mp4: 640x384 Done. (0.008s)\n",
            "video 1/1 (112/621) /content/video.mp4: 640x384 Done. (0.008s)\n",
            "video 1/1 (113/621) /content/video.mp4: 640x384 Done. (0.008s)\n",
            "video 1/1 (114/621) /content/video.mp4: 640x384 Done. (0.008s)\n",
            "video 1/1 (115/621) /content/video.mp4: 640x384 Done. (0.008s)\n",
            "video 1/1 (116/621) /content/video.mp4: 640x384 Done. (0.009s)\n",
            "video 1/1 (117/621) /content/video.mp4: 640x384 Done. (0.008s)\n",
            "video 1/1 (118/621) /content/video.mp4: 640x384 Done. (0.009s)\n",
            "video 1/1 (119/621) /content/video.mp4: 640x384 Done. (0.010s)\n",
            "video 1/1 (120/621) /content/video.mp4: 640x384 Done. (0.008s)\n",
            "video 1/1 (121/621) /content/video.mp4: 640x384 Done. (0.008s)\n",
            "video 1/1 (122/621) /content/video.mp4: 640x384 Done. (0.008s)\n",
            "video 1/1 (123/621) /content/video.mp4: 640x384 Done. (0.008s)\n",
            "video 1/1 (124/621) /content/video.mp4: 640x384 Done. (0.009s)\n",
            "video 1/1 (125/621) /content/video.mp4: 640x384 Done. (0.008s)\n",
            "video 1/1 (126/621) /content/video.mp4: 640x384 Done. (0.008s)\n",
            "video 1/1 (127/621) /content/video.mp4: 640x384 Done. (0.008s)\n",
            "video 1/1 (128/621) /content/video.mp4: 640x384 Done. (0.008s)\n",
            "video 1/1 (129/621) /content/video.mp4: 640x384 Done. (0.008s)\n",
            "video 1/1 (130/621) /content/video.mp4: 640x384 Done. (0.009s)\n",
            "video 1/1 (131/621) /content/video.mp4: 640x384 Done. (0.008s)\n",
            "video 1/1 (132/621) /content/video.mp4: 640x384 Done. (0.009s)\n",
            "video 1/1 (133/621) /content/video.mp4: 640x384 Done. (0.009s)\n",
            "video 1/1 (134/621) /content/video.mp4: 640x384 Done. (0.008s)\n",
            "video 1/1 (135/621) /content/video.mp4: 640x384 Done. (0.008s)\n",
            "video 1/1 (136/621) /content/video.mp4: 640x384 Done. (0.015s)\n",
            "video 1/1 (137/621) /content/video.mp4: 640x384 Done. (0.008s)\n",
            "video 1/1 (138/621) /content/video.mp4: 640x384 Done. (0.008s)\n",
            "video 1/1 (139/621) /content/video.mp4: 640x384 Done. (0.008s)\n",
            "video 1/1 (140/621) /content/video.mp4: 640x384 Done. (0.008s)\n",
            "video 1/1 (141/621) /content/video.mp4: 640x384 Done. (0.008s)\n",
            "video 1/1 (142/621) /content/video.mp4: 640x384 Done. (0.009s)\n",
            "video 1/1 (143/621) /content/video.mp4: 640x384 Done. (0.009s)\n",
            "video 1/1 (144/621) /content/video.mp4: 640x384 Done. (0.008s)\n",
            "video 1/1 (145/621) /content/video.mp4: 640x384 Done. (0.008s)\n",
            "video 1/1 (146/621) /content/video.mp4: 640x384 Done. (0.008s)\n",
            "video 1/1 (147/621) /content/video.mp4: 640x384 Done. (0.008s)\n",
            "video 1/1 (148/621) /content/video.mp4: 640x384 Done. (0.012s)\n",
            "video 1/1 (149/621) /content/video.mp4: 640x384 Done. (0.013s)\n",
            "video 1/1 (150/621) /content/video.mp4: 640x384 Done. (0.009s)\n",
            "video 1/1 (151/621) /content/video.mp4: 640x384 Done. (0.008s)\n",
            "video 1/1 (152/621) /content/video.mp4: 640x384 Done. (0.008s)\n",
            "video 1/1 (153/621) /content/video.mp4: 640x384 Done. (0.011s)\n",
            "video 1/1 (154/621) /content/video.mp4: 640x384 Done. (0.008s)\n",
            "video 1/1 (155/621) /content/video.mp4: 640x384 Done. (0.009s)\n",
            "video 1/1 (156/621) /content/video.mp4: 640x384 Done. (0.008s)\n",
            "video 1/1 (157/621) /content/video.mp4: 640x384 Done. (0.008s)\n",
            "video 1/1 (158/621) /content/video.mp4: 640x384 Done. (0.008s)\n",
            "video 1/1 (159/621) /content/video.mp4: 640x384 Done. (0.010s)\n",
            "video 1/1 (160/621) /content/video.mp4: 640x384 Done. (0.009s)\n",
            "video 1/1 (161/621) /content/video.mp4: 640x384 Done. (0.008s)\n",
            "video 1/1 (162/621) /content/video.mp4: 640x384 Done. (0.008s)\n",
            "video 1/1 (163/621) /content/video.mp4: 640x384 Done. (0.008s)\n",
            "video 1/1 (164/621) /content/video.mp4: 640x384 Done. (0.008s)\n",
            "video 1/1 (165/621) /content/video.mp4: 640x384 Done. (0.009s)\n",
            "video 1/1 (166/621) /content/video.mp4: 640x384 Done. (0.008s)\n",
            "video 1/1 (167/621) /content/video.mp4: 640x384 Done. (0.008s)\n",
            "video 1/1 (168/621) /content/video.mp4: 640x384 Done. (0.008s)\n",
            "video 1/1 (169/621) /content/video.mp4: 640x384 Done. (0.008s)\n",
            "video 1/1 (170/621) /content/video.mp4: 640x384 Done. (0.009s)\n",
            "video 1/1 (171/621) /content/video.mp4: 640x384 Done. (0.012s)\n",
            "video 1/1 (172/621) /content/video.mp4: 640x384 Done. (0.009s)\n",
            "video 1/1 (173/621) /content/video.mp4: 640x384 Done. (0.009s)\n",
            "video 1/1 (174/621) /content/video.mp4: 640x384 Done. (0.008s)\n",
            "video 1/1 (175/621) /content/video.mp4: 640x384 Done. (0.008s)\n",
            "video 1/1 (176/621) /content/video.mp4: 640x384 Done. (0.008s)\n",
            "video 1/1 (177/621) /content/video.mp4: 640x384 Done. (0.009s)\n",
            "video 1/1 (178/621) /content/video.mp4: 640x384 Done. (0.008s)\n",
            "video 1/1 (179/621) /content/video.mp4: 640x384 Done. (0.008s)\n",
            "video 1/1 (180/621) /content/video.mp4: 640x384 Done. (0.008s)\n",
            "video 1/1 (181/621) /content/video.mp4: 640x384 Done. (0.008s)\n",
            "video 1/1 (182/621) /content/video.mp4: 640x384 Done. (0.008s)\n",
            "video 1/1 (183/621) /content/video.mp4: 640x384 Done. (0.009s)\n",
            "video 1/1 (184/621) /content/video.mp4: 640x384 Done. (0.010s)\n",
            "video 1/1 (185/621) /content/video.mp4: 640x384 Done. (0.009s)\n",
            "video 1/1 (186/621) /content/video.mp4: 640x384 Done. (0.008s)\n",
            "video 1/1 (187/621) /content/video.mp4: 640x384 Done. (0.009s)\n",
            "video 1/1 (188/621) /content/video.mp4: 640x384 Done. (0.008s)\n",
            "video 1/1 (189/621) /content/video.mp4: 640x384 Done. (0.012s)\n",
            "video 1/1 (190/621) /content/video.mp4: 640x384 Done. (0.008s)\n",
            "video 1/1 (191/621) /content/video.mp4: 640x384 Done. (0.008s)\n",
            "video 1/1 (192/621) /content/video.mp4: 640x384 Done. (0.009s)\n",
            "video 1/1 (193/621) /content/video.mp4: 640x384 Done. (0.008s)\n",
            "video 1/1 (194/621) /content/video.mp4: 640x384 Done. (0.009s)\n",
            "video 1/1 (195/621) /content/video.mp4: 640x384 Done. (0.008s)\n",
            "video 1/1 (196/621) /content/video.mp4: 640x384 Done. (0.008s)\n",
            "video 1/1 (197/621) /content/video.mp4: 640x384 Done. (0.014s)\n",
            "video 1/1 (198/621) /content/video.mp4: 640x384 Done. (0.014s)\n",
            "video 1/1 (199/621) /content/video.mp4: 640x384 Done. (0.021s)\n",
            "video 1/1 (200/621) /content/video.mp4: 640x384 Done. (0.014s)\n",
            "video 1/1 (201/621) /content/video.mp4: 640x384 Done. (0.021s)\n",
            "video 1/1 (202/621) /content/video.mp4: 640x384 Done. (0.014s)\n",
            "video 1/1 (203/621) /content/video.mp4: 640x384 Done. (0.026s)\n",
            "video 1/1 (204/621) /content/video.mp4: 640x384 Done. (0.014s)\n",
            "video 1/1 (205/621) /content/video.mp4: 640x384 Done. (0.015s)\n",
            "video 1/1 (206/621) /content/video.mp4: 640x384 Done. (0.013s)\n",
            "video 1/1 (207/621) /content/video.mp4: 640x384 Done. (0.013s)\n",
            "video 1/1 (208/621) /content/video.mp4: 640x384 Done. (0.014s)\n",
            "video 1/1 (209/621) /content/video.mp4: 640x384 Done. (0.015s)\n",
            "video 1/1 (210/621) /content/video.mp4: 640x384 Done. (0.013s)\n",
            "video 1/1 (211/621) /content/video.mp4: 640x384 Done. (0.014s)\n",
            "video 1/1 (212/621) /content/video.mp4: 640x384 Done. (0.014s)\n",
            "video 1/1 (213/621) /content/video.mp4: 640x384 Done. (0.014s)\n",
            "video 1/1 (214/621) /content/video.mp4: 640x384 Done. (0.014s)\n",
            "video 1/1 (215/621) /content/video.mp4: 640x384 Done. (0.013s)\n",
            "video 1/1 (216/621) /content/video.mp4: 640x384 Done. (0.014s)\n",
            "video 1/1 (217/621) /content/video.mp4: 640x384 Done. (0.027s)\n",
            "video 1/1 (218/621) /content/video.mp4: 640x384 Done. (0.014s)\n",
            "video 1/1 (219/621) /content/video.mp4: 640x384 Done. (0.015s)\n",
            "video 1/1 (220/621) /content/video.mp4: 640x384 Done. (0.014s)\n",
            "video 1/1 (221/621) /content/video.mp4: 640x384 Done. (0.015s)\n",
            "video 1/1 (222/621) /content/video.mp4: 640x384 Done. (0.013s)\n",
            "video 1/1 (223/621) /content/video.mp4: 640x384 Done. (0.013s)\n",
            "video 1/1 (224/621) /content/video.mp4: 640x384 Done. (0.014s)\n",
            "video 1/1 (225/621) /content/video.mp4: 640x384 Done. (0.013s)\n",
            "video 1/1 (226/621) /content/video.mp4: 640x384 Done. (0.014s)\n",
            "video 1/1 (227/621) /content/video.mp4: 640x384 Done. (0.014s)\n",
            "video 1/1 (228/621) /content/video.mp4: 640x384 Done. (0.014s)\n",
            "video 1/1 (229/621) /content/video.mp4: 640x384 Done. (0.021s)\n",
            "video 1/1 (230/621) /content/video.mp4: 640x384 Done. (0.014s)\n",
            "video 1/1 (231/621) /content/video.mp4: 640x384 Done. (0.012s)\n",
            "video 1/1 (232/621) /content/video.mp4: 640x384 Done. (0.021s)\n",
            "video 1/1 (233/621) /content/video.mp4: 640x384 Done. (0.016s)\n",
            "video 1/1 (234/621) /content/video.mp4: 640x384 Done. (0.014s)\n",
            "video 1/1 (235/621) /content/video.mp4: 640x384 Done. (0.021s)\n",
            "video 1/1 (236/621) /content/video.mp4: 640x384 Done. (0.013s)\n",
            "video 1/1 (237/621) /content/video.mp4: 640x384 Done. (0.016s)\n",
            "video 1/1 (238/621) /content/video.mp4: 640x384 Done. (0.019s)\n",
            "video 1/1 (239/621) /content/video.mp4: 640x384 Done. (0.024s)\n",
            "video 1/1 (240/621) /content/video.mp4: 640x384 Done. (0.013s)\n",
            "video 1/1 (241/621) /content/video.mp4: 640x384 Done. (0.020s)\n",
            "video 1/1 (242/621) /content/video.mp4: 640x384 Done. (0.013s)\n",
            "video 1/1 (243/621) /content/video.mp4: 640x384 Done. (0.013s)\n",
            "video 1/1 (244/621) /content/video.mp4: 640x384 Done. (0.016s)\n",
            "video 1/1 (245/621) /content/video.mp4: 640x384 Done. (0.014s)\n",
            "video 1/1 (246/621) /content/video.mp4: 640x384 Done. (0.014s)\n",
            "video 1/1 (247/621) /content/video.mp4: 640x384 Done. (0.014s)\n",
            "video 1/1 (248/621) /content/video.mp4: 640x384 Done. (0.015s)\n",
            "video 1/1 (249/621) /content/video.mp4: 640x384 Done. (0.021s)\n",
            "video 1/1 (250/621) /content/video.mp4: 640x384 Done. (0.014s)\n",
            "video 1/1 (251/621) /content/video.mp4: 640x384 Done. (0.015s)\n",
            "video 1/1 (252/621) /content/video.mp4: 640x384 Done. (0.022s)\n",
            "video 1/1 (253/621) /content/video.mp4: 640x384 Done. (0.014s)\n",
            "video 1/1 (254/621) /content/video.mp4: 640x384 Done. (0.014s)\n",
            "video 1/1 (255/621) /content/video.mp4: 640x384 Done. (0.021s)\n",
            "video 1/1 (256/621) /content/video.mp4: 640x384 Done. (0.014s)\n",
            "video 1/1 (257/621) /content/video.mp4: 640x384 Done. (0.013s)\n",
            "video 1/1 (258/621) /content/video.mp4: 640x384 Done. (0.015s)\n",
            "video 1/1 (259/621) /content/video.mp4: 640x384 Done. (0.030s)\n",
            "video 1/1 (260/621) /content/video.mp4: 640x384 Done. (0.034s)\n",
            "video 1/1 (261/621) /content/video.mp4: 640x384 Done. (0.017s)\n",
            "video 1/1 (262/621) /content/video.mp4: 640x384 Done. (0.015s)\n",
            "video 1/1 (263/621) /content/video.mp4: 640x384 Done. (0.023s)\n",
            "video 1/1 (264/621) /content/video.mp4: 640x384 Done. (0.015s)\n",
            "video 1/1 (265/621) /content/video.mp4: 640x384 Done. (0.066s)\n",
            "video 1/1 (266/621) /content/video.mp4: 640x384 Done. (0.017s)\n",
            "video 1/1 (267/621) /content/video.mp4: 640x384 Done. (0.023s)\n",
            "video 1/1 (268/621) /content/video.mp4: 640x384 Done. (0.014s)\n",
            "video 1/1 (269/621) /content/video.mp4: 640x384 Done. (0.014s)\n",
            "video 1/1 (270/621) /content/video.mp4: 640x384 Done. (0.016s)\n",
            "video 1/1 (271/621) /content/video.mp4: 640x384 Done. (0.014s)\n",
            "video 1/1 (272/621) /content/video.mp4: 640x384 Done. (0.014s)\n",
            "video 1/1 (273/621) /content/video.mp4: 640x384 Done. (0.016s)\n",
            "video 1/1 (274/621) /content/video.mp4: 640x384 Done. (0.029s)\n",
            "video 1/1 (275/621) /content/video.mp4: 640x384 Done. (0.014s)\n",
            "video 1/1 (276/621) /content/video.mp4: 640x384 Done. (0.023s)\n",
            "video 1/1 (277/621) /content/video.mp4: 640x384 Done. (0.015s)\n",
            "video 1/1 (278/621) /content/video.mp4: 640x384 Done. (0.019s)\n",
            "video 1/1 (279/621) /content/video.mp4: 640x384 Done. (0.012s)\n",
            "video 1/1 (280/621) /content/video.mp4: 640x384 Done. (0.021s)\n",
            "video 1/1 (281/621) /content/video.mp4: 640x384 Done. (0.034s)\n",
            "video 1/1 (282/621) /content/video.mp4: 640x384 Done. (0.016s)\n",
            "video 1/1 (283/621) /content/video.mp4: 640x384 Done. (0.014s)\n",
            "video 1/1 (284/621) /content/video.mp4: 640x384 Done. (0.014s)\n",
            "video 1/1 (285/621) /content/video.mp4: 640x384 Done. (0.014s)\n",
            "video 1/1 (286/621) /content/video.mp4: 640x384 Done. (0.014s)\n",
            "video 1/1 (287/621) /content/video.mp4: 640x384 Done. (0.047s)\n",
            "video 1/1 (288/621) /content/video.mp4: 640x384 Done. (0.021s)\n",
            "video 1/1 (289/621) /content/video.mp4: 640x384 Done. (0.015s)\n",
            "video 1/1 (290/621) /content/video.mp4: 640x384 Done. (0.014s)\n",
            "video 1/1 (291/621) /content/video.mp4: 640x384 Done. (0.018s)\n",
            "video 1/1 (292/621) /content/video.mp4: 640x384 Done. (0.027s)\n",
            "video 1/1 (293/621) /content/video.mp4: 640x384 Done. (0.015s)\n",
            "video 1/1 (294/621) /content/video.mp4: 640x384 Done. (0.043s)\n",
            "video 1/1 (295/621) /content/video.mp4: 640x384 Done. (0.027s)\n",
            "video 1/1 (296/621) /content/video.mp4: 640x384 Done. (0.028s)\n",
            "video 1/1 (297/621) /content/video.mp4: 640x384 Done. (0.015s)\n",
            "video 1/1 (298/621) /content/video.mp4: 640x384 Done. (0.014s)\n",
            "video 1/1 (299/621) /content/video.mp4: 640x384 Done. (0.014s)\n",
            "video 1/1 (300/621) /content/video.mp4: 640x384 Done. (0.027s)\n",
            "video 1/1 (301/621) /content/video.mp4: 640x384 Done. (0.030s)\n",
            "video 1/1 (302/621) /content/video.mp4: 640x384 Done. (0.014s)\n",
            "video 1/1 (303/621) /content/video.mp4: 640x384 Done. (0.017s)\n",
            "video 1/1 (304/621) /content/video.mp4: 640x384 Done. (0.015s)\n",
            "video 1/1 (305/621) /content/video.mp4: 640x384 Done. (0.018s)\n",
            "video 1/1 (306/621) /content/video.mp4: 640x384 Done. (0.014s)\n",
            "video 1/1 (307/621) /content/video.mp4: 640x384 Done. (0.014s)\n",
            "video 1/1 (308/621) /content/video.mp4: 640x384 Done. (0.024s)\n",
            "video 1/1 (309/621) /content/video.mp4: 640x384 Done. (0.014s)\n",
            "video 1/1 (310/621) /content/video.mp4: 640x384 Done. (0.019s)\n",
            "video 1/1 (311/621) /content/video.mp4: 640x384 Done. (0.037s)\n",
            "video 1/1 (312/621) /content/video.mp4: 640x384 Done. (0.013s)\n",
            "video 1/1 (313/621) /content/video.mp4: 640x384 Done. (0.020s)\n",
            "video 1/1 (314/621) /content/video.mp4: 640x384 Done. (0.015s)\n",
            "video 1/1 (315/621) /content/video.mp4: 640x384 Done. (0.015s)\n",
            "video 1/1 (316/621) /content/video.mp4: 640x384 Done. (0.018s)\n",
            "video 1/1 (317/621) /content/video.mp4: 640x384 Done. (0.013s)\n",
            "video 1/1 (318/621) /content/video.mp4: 640x384 Done. (0.012s)\n",
            "video 1/1 (319/621) /content/video.mp4: 640x384 Done. (0.014s)\n",
            "video 1/1 (320/621) /content/video.mp4: 640x384 Done. (0.027s)\n",
            "video 1/1 (321/621) /content/video.mp4: 640x384 Done. (0.013s)\n",
            "video 1/1 (322/621) /content/video.mp4: 640x384 Done. (0.014s)\n",
            "video 1/1 (323/621) /content/video.mp4: 640x384 Done. (0.013s)\n",
            "video 1/1 (324/621) /content/video.mp4: 640x384 Done. (0.014s)\n",
            "video 1/1 (325/621) /content/video.mp4: 640x384 Done. (0.013s)\n",
            "video 1/1 (326/621) /content/video.mp4: 640x384 Done. (0.014s)\n",
            "video 1/1 (327/621) /content/video.mp4: 640x384 Done. (0.032s)\n",
            "video 1/1 (328/621) /content/video.mp4: 640x384 Done. (0.021s)\n",
            "video 1/1 (329/621) /content/video.mp4: 640x384 Done. (0.014s)\n",
            "video 1/1 (330/621) /content/video.mp4: 640x384 Done. (0.019s)\n",
            "video 1/1 (331/621) /content/video.mp4: 640x384 Done. (0.019s)\n",
            "video 1/1 (332/621) /content/video.mp4: 640x384 Done. (0.015s)\n",
            "video 1/1 (333/621) /content/video.mp4: 640x384 Done. (0.020s)\n",
            "video 1/1 (334/621) /content/video.mp4: 640x384 Done. (0.030s)\n",
            "video 1/1 (335/621) /content/video.mp4: 640x384 Done. (0.019s)\n",
            "video 1/1 (336/621) /content/video.mp4: 640x384 Done. (0.015s)\n",
            "video 1/1 (337/621) /content/video.mp4: 640x384 Done. (0.013s)\n",
            "video 1/1 (338/621) /content/video.mp4: 640x384 Done. (0.022s)\n",
            "video 1/1 (339/621) /content/video.mp4: 640x384 Done. (0.033s)\n",
            "video 1/1 (340/621) /content/video.mp4: 640x384 Done. (0.014s)\n",
            "video 1/1 (341/621) /content/video.mp4: 640x384 Done. (0.016s)\n",
            "video 1/1 (342/621) /content/video.mp4: 640x384 Done. (0.018s)\n",
            "video 1/1 (343/621) /content/video.mp4: 640x384 Done. (0.014s)\n",
            "video 1/1 (344/621) /content/video.mp4: 640x384 Done. (0.016s)\n",
            "video 1/1 (345/621) /content/video.mp4: 640x384 Done. (0.071s)\n",
            "video 1/1 (346/621) /content/video.mp4: 640x384 Done. (0.016s)\n",
            "video 1/1 (347/621) /content/video.mp4: 640x384 Done. (0.015s)\n",
            "video 1/1 (348/621) /content/video.mp4: 640x384 Done. (0.038s)\n",
            "video 1/1 (349/621) /content/video.mp4: 640x384 Done. (0.013s)\n",
            "video 1/1 (350/621) /content/video.mp4: 640x384 Done. (0.032s)\n",
            "video 1/1 (351/621) /content/video.mp4: 640x384 Done. (0.033s)\n",
            "video 1/1 (352/621) /content/video.mp4: 640x384 Done. (0.051s)\n",
            "video 1/1 (353/621) /content/video.mp4: 640x384 Done. (0.019s)\n",
            "video 1/1 (354/621) /content/video.mp4: 640x384 Done. (0.015s)\n",
            "video 1/1 (355/621) /content/video.mp4: 640x384 Done. (0.018s)\n",
            "video 1/1 (356/621) /content/video.mp4: 640x384 Done. (0.025s)\n",
            "video 1/1 (357/621) /content/video.mp4: 640x384 Done. (0.018s)\n",
            "video 1/1 (358/621) /content/video.mp4: 640x384 Done. (0.016s)\n",
            "video 1/1 (359/621) /content/video.mp4: 640x384 Done. (0.015s)\n",
            "video 1/1 (360/621) /content/video.mp4: 640x384 Done. (0.014s)\n",
            "video 1/1 (361/621) /content/video.mp4: 640x384 Done. (0.028s)\n",
            "video 1/1 (362/621) /content/video.mp4: 640x384 Done. (0.021s)\n",
            "video 1/1 (363/621) /content/video.mp4: 640x384 Done. (0.028s)\n",
            "video 1/1 (364/621) /content/video.mp4: 640x384 Done. (0.018s)\n",
            "video 1/1 (365/621) /content/video.mp4: 640x384 Done. (0.035s)\n",
            "video 1/1 (366/621) /content/video.mp4: 640x384 Done. (0.037s)\n",
            "video 1/1 (367/621) /content/video.mp4: 640x384 Done. (0.014s)\n",
            "video 1/1 (368/621) /content/video.mp4: 640x384 Done. (0.011s)\n",
            "video 1/1 (369/621) /content/video.mp4: 640x384 Done. (0.011s)\n",
            "video 1/1 (370/621) /content/video.mp4: 640x384 Done. (0.011s)\n",
            "video 1/1 (371/621) /content/video.mp4: 640x384 Done. (0.011s)\n",
            "video 1/1 (372/621) /content/video.mp4: 640x384 Done. (0.011s)\n",
            "video 1/1 (373/621) /content/video.mp4: 640x384 Done. (0.011s)\n",
            "video 1/1 (374/621) /content/video.mp4: 640x384 Done. (0.010s)\n",
            "video 1/1 (375/621) /content/video.mp4: 640x384 Done. (0.010s)\n",
            "video 1/1 (376/621) /content/video.mp4: 640x384 Done. (0.010s)\n",
            "video 1/1 (377/621) /content/video.mp4: 640x384 Done. (0.010s)\n",
            "video 1/1 (378/621) /content/video.mp4: 640x384 Done. (0.010s)\n",
            "video 1/1 (379/621) /content/video.mp4: 640x384 Done. (0.010s)\n",
            "video 1/1 (380/621) /content/video.mp4: 640x384 Done. (0.010s)\n",
            "video 1/1 (381/621) /content/video.mp4: 640x384 Done. (0.010s)\n",
            "video 1/1 (382/621) /content/video.mp4: 640x384 Done. (0.010s)\n",
            "video 1/1 (383/621) /content/video.mp4: 640x384 Done. (0.010s)\n",
            "video 1/1 (384/621) /content/video.mp4: 640x384 Done. (0.010s)\n",
            "video 1/1 (385/621) /content/video.mp4: 640x384 Done. (0.009s)\n",
            "video 1/1 (386/621) /content/video.mp4: 640x384 Done. (0.009s)\n",
            "video 1/1 (387/621) /content/video.mp4: 640x384 Done. (0.009s)\n",
            "video 1/1 (388/621) /content/video.mp4: 640x384 Done. (0.014s)\n",
            "video 1/1 (389/621) /content/video.mp4: 640x384 Done. (0.009s)\n",
            "video 1/1 (390/621) /content/video.mp4: 640x384 Done. (0.009s)\n",
            "video 1/1 (391/621) /content/video.mp4: 640x384 Done. (0.009s)\n",
            "video 1/1 (392/621) /content/video.mp4: 640x384 Done. (0.009s)\n",
            "video 1/1 (393/621) /content/video.mp4: 640x384 Done. (0.009s)\n",
            "video 1/1 (394/621) /content/video.mp4: 640x384 Done. (0.009s)\n",
            "video 1/1 (395/621) /content/video.mp4: 640x384 Done. (0.009s)\n",
            "video 1/1 (396/621) /content/video.mp4: 640x384 Done. (0.009s)\n",
            "video 1/1 (397/621) /content/video.mp4: 640x384 Done. (0.010s)\n",
            "video 1/1 (398/621) /content/video.mp4: 640x384 Done. (0.009s)\n",
            "video 1/1 (399/621) /content/video.mp4: 640x384 Done. (0.009s)\n",
            "video 1/1 (400/621) /content/video.mp4: 640x384 Done. (0.009s)\n",
            "video 1/1 (401/621) /content/video.mp4: 640x384 Done. (0.009s)\n",
            "video 1/1 (402/621) /content/video.mp4: 640x384 Done. (0.009s)\n",
            "video 1/1 (403/621) /content/video.mp4: 640x384 Done. (0.009s)\n",
            "video 1/1 (404/621) /content/video.mp4: 640x384 Done. (0.009s)\n",
            "video 1/1 (405/621) /content/video.mp4: 640x384 Done. (0.010s)\n",
            "video 1/1 (406/621) /content/video.mp4: 640x384 Done. (0.010s)\n",
            "video 1/1 (407/621) /content/video.mp4: 640x384 Done. (0.009s)\n",
            "video 1/1 (408/621) /content/video.mp4: 640x384 Done. (0.009s)\n",
            "video 1/1 (409/621) /content/video.mp4: 640x384 Done. (0.008s)\n",
            "video 1/1 (410/621) /content/video.mp4: 640x384 Done. (0.009s)\n",
            "video 1/1 (411/621) /content/video.mp4: 640x384 Done. (0.009s)\n",
            "video 1/1 (412/621) /content/video.mp4: 640x384 Done. (0.009s)\n",
            "video 1/1 (413/621) /content/video.mp4: 640x384 Done. (0.009s)\n",
            "video 1/1 (414/621) /content/video.mp4: 640x384 Done. (0.009s)\n",
            "video 1/1 (415/621) /content/video.mp4: 640x384 Done. (0.009s)\n",
            "video 1/1 (416/621) /content/video.mp4: 640x384 Done. (0.008s)\n",
            "video 1/1 (417/621) /content/video.mp4: 640x384 Done. (0.008s)\n",
            "video 1/1 (418/621) /content/video.mp4: 640x384 Done. (0.009s)\n",
            "video 1/1 (419/621) /content/video.mp4: 640x384 Done. (0.009s)\n",
            "video 1/1 (420/621) /content/video.mp4: 640x384 Done. (0.009s)\n",
            "video 1/1 (421/621) /content/video.mp4: 640x384 Done. (0.009s)\n",
            "video 1/1 (422/621) /content/video.mp4: 640x384 Done. (0.009s)\n",
            "video 1/1 (423/621) /content/video.mp4: 640x384 Done. (0.008s)\n",
            "video 1/1 (424/621) /content/video.mp4: 640x384 Done. (0.009s)\n",
            "video 1/1 (425/621) /content/video.mp4: 640x384 Done. (0.009s)\n",
            "video 1/1 (426/621) /content/video.mp4: 640x384 Done. (0.009s)\n",
            "video 1/1 (427/621) /content/video.mp4: 640x384 Done. (0.009s)\n",
            "video 1/1 (428/621) /content/video.mp4: 640x384 Done. (0.008s)\n",
            "video 1/1 (429/621) /content/video.mp4: 640x384 Done. (0.008s)\n",
            "video 1/1 (430/621) /content/video.mp4: 640x384 Done. (0.009s)\n",
            "video 1/1 (431/621) /content/video.mp4: 640x384 Done. (0.009s)\n",
            "video 1/1 (432/621) /content/video.mp4: 640x384 Done. (0.010s)\n",
            "video 1/1 (433/621) /content/video.mp4: 640x384 Done. (0.009s)\n",
            "video 1/1 (434/621) /content/video.mp4: 640x384 Done. (0.008s)\n",
            "video 1/1 (435/621) /content/video.mp4: 640x384 Done. (0.008s)\n",
            "video 1/1 (436/621) /content/video.mp4: 640x384 Done. (0.009s)\n",
            "video 1/1 (437/621) /content/video.mp4: 640x384 Done. (0.009s)\n",
            "video 1/1 (438/621) /content/video.mp4: 640x384 Done. (0.009s)\n",
            "video 1/1 (439/621) /content/video.mp4: 640x384 Done. (0.009s)\n",
            "video 1/1 (440/621) /content/video.mp4: 640x384 Done. (0.009s)\n",
            "video 1/1 (441/621) /content/video.mp4: 640x384 Done. (0.008s)\n",
            "video 1/1 (442/621) /content/video.mp4: 640x384 Done. (0.009s)\n",
            "video 1/1 (443/621) /content/video.mp4: 640x384 Done. (0.009s)\n",
            "video 1/1 (444/621) /content/video.mp4: 640x384 Done. (0.009s)\n",
            "video 1/1 (445/621) /content/video.mp4: 640x384 Done. (0.008s)\n",
            "video 1/1 (446/621) /content/video.mp4: 640x384 Done. (0.009s)\n",
            "video 1/1 (447/621) /content/video.mp4: 640x384 Done. (0.014s)\n",
            "video 1/1 (448/621) /content/video.mp4: 640x384 Done. (0.009s)\n",
            "video 1/1 (449/621) /content/video.mp4: 640x384 Done. (0.008s)\n",
            "video 1/1 (450/621) /content/video.mp4: 640x384 Done. (0.011s)\n",
            "video 1/1 (451/621) /content/video.mp4: 640x384 Done. (0.008s)\n",
            "video 1/1 (452/621) /content/video.mp4: 640x384 Done. (0.009s)\n",
            "video 1/1 (453/621) /content/video.mp4: 640x384 Done. (0.009s)\n",
            "video 1/1 (454/621) /content/video.mp4: 640x384 Done. (0.009s)\n",
            "video 1/1 (455/621) /content/video.mp4: 640x384 Done. (0.013s)\n",
            "video 1/1 (456/621) /content/video.mp4: 640x384 Done. (0.009s)\n",
            "video 1/1 (457/621) /content/video.mp4: 640x384 Done. (0.008s)\n",
            "video 1/1 (458/621) /content/video.mp4: 640x384 Done. (0.009s)\n",
            "video 1/1 (459/621) /content/video.mp4: 640x384 Done. (0.009s)\n",
            "video 1/1 (460/621) /content/video.mp4: 640x384 Done. (0.008s)\n",
            "video 1/1 (461/621) /content/video.mp4: 640x384 Done. (0.009s)\n",
            "video 1/1 (462/621) /content/video.mp4: 640x384 Done. (0.009s)\n",
            "video 1/1 (463/621) /content/video.mp4: 640x384 Done. (0.009s)\n",
            "video 1/1 (464/621) /content/video.mp4: 640x384 Done. (0.010s)\n",
            "video 1/1 (465/621) /content/video.mp4: 640x384 Done. (0.009s)\n",
            "video 1/1 (466/621) /content/video.mp4: 640x384 Done. (0.011s)\n",
            "video 1/1 (467/621) /content/video.mp4: 640x384 Done. (0.011s)\n",
            "video 1/1 (468/621) /content/video.mp4: 640x384 Done. (0.009s)\n",
            "video 1/1 (469/621) /content/video.mp4: 640x384 Done. (0.009s)\n",
            "video 1/1 (470/621) /content/video.mp4: 640x384 Done. (0.009s)\n",
            "video 1/1 (471/621) /content/video.mp4: 640x384 Done. (0.009s)\n",
            "video 1/1 (472/621) /content/video.mp4: 640x384 Done. (0.009s)\n",
            "video 1/1 (473/621) /content/video.mp4: 640x384 Done. (0.008s)\n",
            "video 1/1 (474/621) /content/video.mp4: 640x384 Done. (0.008s)\n",
            "video 1/1 (475/621) /content/video.mp4: 640x384 Done. (0.008s)\n",
            "video 1/1 (476/621) /content/video.mp4: 640x384 Done. (0.009s)\n",
            "video 1/1 (477/621) /content/video.mp4: 640x384 Done. (0.009s)\n",
            "video 1/1 (478/621) /content/video.mp4: 640x384 Done. (0.008s)\n",
            "video 1/1 (479/621) /content/video.mp4: 640x384 Done. (0.010s)\n",
            "video 1/1 (480/621) /content/video.mp4: 640x384 Done. (0.008s)\n",
            "video 1/1 (481/621) /content/video.mp4: 640x384 Done. (0.009s)\n",
            "video 1/1 (482/621) /content/video.mp4: 640x384 Done. (0.009s)\n",
            "video 1/1 (483/621) /content/video.mp4: 640x384 Done. (0.009s)\n",
            "video 1/1 (484/621) /content/video.mp4: 640x384 Done. (0.012s)\n",
            "video 1/1 (485/621) /content/video.mp4: 640x384 Done. (0.009s)\n",
            "video 1/1 (486/621) /content/video.mp4: 640x384 Done. (0.009s)\n",
            "video 1/1 (487/621) /content/video.mp4: 640x384 Done. (0.009s)\n",
            "video 1/1 (488/621) /content/video.mp4: 640x384 Done. (0.008s)\n",
            "video 1/1 (489/621) /content/video.mp4: 640x384 Done. (0.008s)\n",
            "video 1/1 (490/621) /content/video.mp4: 640x384 Done. (0.009s)\n",
            "video 1/1 (491/621) /content/video.mp4: 640x384 Done. (0.010s)\n",
            "video 1/1 (492/621) /content/video.mp4: 640x384 Done. (0.009s)\n",
            "video 1/1 (493/621) /content/video.mp4: 640x384 Done. (0.009s)\n",
            "video 1/1 (494/621) /content/video.mp4: 640x384 Done. (0.009s)\n",
            "video 1/1 (495/621) /content/video.mp4: 640x384 Done. (0.009s)\n",
            "video 1/1 (496/621) /content/video.mp4: 640x384 Done. (0.009s)\n",
            "video 1/1 (497/621) /content/video.mp4: 640x384 Done. (0.008s)\n",
            "video 1/1 (498/621) /content/video.mp4: 640x384 Done. (0.009s)\n",
            "video 1/1 (499/621) /content/video.mp4: 640x384 Done. (0.009s)\n",
            "video 1/1 (500/621) /content/video.mp4: 640x384 Done. (0.009s)\n",
            "video 1/1 (501/621) /content/video.mp4: 640x384 Done. (0.009s)\n",
            "video 1/1 (502/621) /content/video.mp4: 640x384 Done. (0.010s)\n",
            "video 1/1 (503/621) /content/video.mp4: 640x384 Done. (0.009s)\n",
            "video 1/1 (504/621) /content/video.mp4: 640x384 Done. (0.008s)\n",
            "video 1/1 (505/621) /content/video.mp4: 640x384 Done. (0.012s)\n",
            "video 1/1 (506/621) /content/video.mp4: 640x384 Done. (0.008s)\n",
            "video 1/1 (507/621) /content/video.mp4: 640x384 Done. (0.009s)\n",
            "video 1/1 (508/621) /content/video.mp4: 640x384 Done. (0.008s)\n",
            "video 1/1 (509/621) /content/video.mp4: 640x384 Done. (0.008s)\n",
            "video 1/1 (510/621) /content/video.mp4: 640x384 Done. (0.009s)\n",
            "video 1/1 (511/621) /content/video.mp4: 640x384 Done. (0.009s)\n",
            "video 1/1 (512/621) /content/video.mp4: 640x384 Done. (0.009s)\n",
            "video 1/1 (513/621) /content/video.mp4: 640x384 Done. (0.009s)\n",
            "video 1/1 (514/621) /content/video.mp4: 640x384 Done. (0.008s)\n",
            "video 1/1 (515/621) /content/video.mp4: 640x384 Done. (0.009s)\n",
            "video 1/1 (516/621) /content/video.mp4: 640x384 Done. (0.009s)\n",
            "video 1/1 (517/621) /content/video.mp4: 640x384 Done. (0.008s)\n",
            "video 1/1 (518/621) /content/video.mp4: 640x384 Done. (0.009s)\n",
            "video 1/1 (519/621) /content/video.mp4: 640x384 Done. (0.009s)\n",
            "video 1/1 (520/621) /content/video.mp4: 640x384 Done. (0.009s)\n",
            "video 1/1 (521/621) /content/video.mp4: 640x384 Done. (0.010s)\n",
            "video 1/1 (522/621) /content/video.mp4: 640x384 Done. (0.008s)\n",
            "video 1/1 (523/621) /content/video.mp4: 640x384 Done. (0.008s)\n",
            "video 1/1 (524/621) /content/video.mp4: 640x384 Done. (0.009s)\n",
            "video 1/1 (525/621) /content/video.mp4: 640x384 Done. (0.008s)\n",
            "video 1/1 (526/621) /content/video.mp4: 640x384 Done. (0.008s)\n",
            "video 1/1 (527/621) /content/video.mp4: 640x384 Done. (0.009s)\n",
            "video 1/1 (528/621) /content/video.mp4: 640x384 Done. (0.008s)\n",
            "video 1/1 (529/621) /content/video.mp4: 640x384 Done. (0.009s)\n",
            "video 1/1 (530/621) /content/video.mp4: 640x384 Done. (0.009s)\n",
            "video 1/1 (531/621) /content/video.mp4: 640x384 Done. (0.009s)\n",
            "video 1/1 (532/621) /content/video.mp4: 640x384 Done. (0.009s)\n",
            "video 1/1 (533/621) /content/video.mp4: 640x384 Done. (0.010s)\n",
            "video 1/1 (534/621) /content/video.mp4: 640x384 Done. (0.009s)\n",
            "video 1/1 (535/621) /content/video.mp4: 640x384 Done. (0.009s)\n",
            "video 1/1 (536/621) /content/video.mp4: 640x384 Done. (0.011s)\n",
            "video 1/1 (537/621) /content/video.mp4: 640x384 Done. (0.008s)\n",
            "video 1/1 (538/621) /content/video.mp4: 640x384 Done. (0.009s)\n",
            "video 1/1 (539/621) /content/video.mp4: 640x384 Done. (0.008s)\n",
            "video 1/1 (540/621) /content/video.mp4: 640x384 Done. (0.009s)\n",
            "video 1/1 (541/621) /content/video.mp4: 640x384 Done. (0.009s)\n",
            "video 1/1 (542/621) /content/video.mp4: 640x384 Done. (0.009s)\n",
            "video 1/1 (543/621) /content/video.mp4: 640x384 Done. (0.008s)\n",
            "video 1/1 (544/621) /content/video.mp4: 640x384 Done. (0.009s)\n",
            "video 1/1 (545/621) /content/video.mp4: 640x384 Done. (0.008s)\n",
            "video 1/1 (546/621) /content/video.mp4: 640x384 Done. (0.008s)\n",
            "video 1/1 (547/621) /content/video.mp4: 640x384 Done. (0.008s)\n",
            "video 1/1 (548/621) /content/video.mp4: 640x384 Done. (0.009s)\n",
            "video 1/1 (549/621) /content/video.mp4: 640x384 Done. (0.009s)\n",
            "video 1/1 (550/621) /content/video.mp4: 640x384 Done. (0.008s)\n",
            "video 1/1 (551/621) /content/video.mp4: 640x384 Done. (0.010s)\n",
            "video 1/1 (552/621) /content/video.mp4: 640x384 Done. (0.009s)\n",
            "video 1/1 (553/621) /content/video.mp4: 640x384 Done. (0.009s)\n",
            "video 1/1 (554/621) /content/video.mp4: 640x384 Done. (0.008s)\n",
            "video 1/1 (555/621) /content/video.mp4: 640x384 Done. (0.009s)\n",
            "video 1/1 (556/621) /content/video.mp4: 640x384 Done. (0.009s)\n",
            "video 1/1 (557/621) /content/video.mp4: 640x384 Done. (0.009s)\n",
            "video 1/1 (558/621) /content/video.mp4: 640x384 Done. (0.008s)\n",
            "video 1/1 (559/621) /content/video.mp4: 640x384 Done. (0.009s)\n",
            "video 1/1 (560/621) /content/video.mp4: 640x384 Done. (0.008s)\n",
            "video 1/1 (561/621) /content/video.mp4: 640x384 Done. (0.009s)\n",
            "video 1/1 (562/621) /content/video.mp4: 640x384 Done. (0.008s)\n",
            "video 1/1 (563/621) /content/video.mp4: 640x384 Done. (0.009s)\n",
            "video 1/1 (564/621) /content/video.mp4: 640x384 Done. (0.012s)\n",
            "video 1/1 (565/621) /content/video.mp4: 640x384 Done. (0.009s)\n",
            "video 1/1 (566/621) /content/video.mp4: 640x384 Done. (0.008s)\n",
            "video 1/1 (567/621) /content/video.mp4: 640x384 Done. (0.009s)\n",
            "video 1/1 (568/621) /content/video.mp4: 640x384 Done. (0.009s)\n",
            "video 1/1 (569/621) /content/video.mp4: 640x384 Done. (0.008s)\n",
            "video 1/1 (570/621) /content/video.mp4: 640x384 Done. (0.009s)\n",
            "video 1/1 (571/621) /content/video.mp4: 640x384 Done. (0.012s)\n",
            "video 1/1 (572/621) /content/video.mp4: 640x384 Done. (0.008s)\n",
            "video 1/1 (573/621) /content/video.mp4: 640x384 Done. (0.010s)\n",
            "video 1/1 (574/621) /content/video.mp4: 640x384 Done. (0.008s)\n",
            "video 1/1 (575/621) /content/video.mp4: 640x384 Done. (0.008s)\n",
            "video 1/1 (576/621) /content/video.mp4: 640x384 Done. (0.008s)\n",
            "video 1/1 (577/621) /content/video.mp4: 640x384 Done. (0.009s)\n",
            "video 1/1 (578/621) /content/video.mp4: 640x384 Done. (0.009s)\n",
            "video 1/1 (579/621) /content/video.mp4: 640x384 Done. (0.010s)\n",
            "video 1/1 (580/621) /content/video.mp4: 640x384 Done. (0.008s)\n",
            "video 1/1 (581/621) /content/video.mp4: 640x384 Done. (0.008s)\n",
            "video 1/1 (582/621) /content/video.mp4: 640x384 Done. (0.008s)\n",
            "video 1/1 (583/621) /content/video.mp4: 640x384 Done. (0.008s)\n",
            "video 1/1 (584/621) /content/video.mp4: 640x384 Done. (0.008s)\n",
            "video 1/1 (585/621) /content/video.mp4: 640x384 Done. (0.008s)\n",
            "video 1/1 (586/621) /content/video.mp4: 640x384 Done. (0.009s)\n",
            "video 1/1 (587/621) /content/video.mp4: 640x384 Done. (0.008s)\n",
            "video 1/1 (588/621) /content/video.mp4: 640x384 Done. (0.008s)\n",
            "video 1/1 (589/621) /content/video.mp4: 640x384 Done. (0.008s)\n",
            "video 1/1 (590/621) /content/video.mp4: 640x384 Done. (0.009s)\n",
            "video 1/1 (591/621) /content/video.mp4: 640x384 Done. (0.009s)\n",
            "video 1/1 (592/621) /content/video.mp4: 640x384 Done. (0.008s)\n",
            "video 1/1 (593/621) /content/video.mp4: 640x384 Done. (0.008s)\n",
            "video 1/1 (594/621) /content/video.mp4: 640x384 Done. (0.009s)\n",
            "video 1/1 (595/621) /content/video.mp4: 640x384 Done. (0.008s)\n",
            "video 1/1 (596/621) /content/video.mp4: 640x384 Done. (0.008s)\n",
            "video 1/1 (597/621) /content/video.mp4: 640x384 Done. (0.008s)\n",
            "video 1/1 (598/621) /content/video.mp4: 640x384 Done. (0.009s)\n",
            "video 1/1 (599/621) /content/video.mp4: 640x384 Done. (0.009s)\n",
            "video 1/1 (600/621) /content/video.mp4: 640x384 Done. (0.009s)\n",
            "video 1/1 (601/621) /content/video.mp4: 640x384 Done. (0.008s)\n",
            "video 1/1 (602/621) /content/video.mp4: 640x384 Done. (0.008s)\n",
            "video 1/1 (603/621) /content/video.mp4: 640x384 Done. (0.008s)\n",
            "video 1/1 (604/621) /content/video.mp4: 640x384 Done. (0.008s)\n",
            "video 1/1 (605/621) /content/video.mp4: 640x384 Done. (0.009s)\n",
            "video 1/1 (606/621) /content/video.mp4: 640x384 Done. (0.011s)\n",
            "video 1/1 (607/621) /content/video.mp4: 640x384 Done. (0.009s)\n",
            "video 1/1 (608/621) /content/video.mp4: 640x384 Done. (0.009s)\n",
            "video 1/1 (609/621) /content/video.mp4: 640x384 Done. (0.009s)\n",
            "video 1/1 (610/621) /content/video.mp4: 640x384 Done. (0.011s)\n",
            "video 1/1 (611/621) /content/video.mp4: 640x384 Done. (0.009s)\n",
            "video 1/1 (612/621) /content/video.mp4: 640x384 Done. (0.009s)\n",
            "video 1/1 (613/621) /content/video.mp4: 640x384 Done. (0.009s)\n",
            "video 1/1 (614/621) /content/video.mp4: 640x384 Done. (0.009s)\n",
            "video 1/1 (615/621) /content/video.mp4: 640x384 Done. (0.009s)\n",
            "video 1/1 (616/621) /content/video.mp4: 640x384 Done. (0.009s)\n",
            "video 1/1 (617/621) /content/video.mp4: 640x384 Done. (0.009s)\n",
            "video 1/1 (618/621) /content/video.mp4: 640x384 Done. (0.008s)\n",
            "video 1/1 (619/621) /content/video.mp4: 640x384 Done. (0.009s)\n",
            "video 1/1 (620/621) /content/video.mp4: 640x384 Done. (0.009s)\n",
            "video 1/1 (621/621) /content/video.mp4: 640x384 Done. (0.010s)\n",
            "Speed: 0.4ms pre-process, 11.8ms inference, 0.2ms NMS per image at shape (1, 3, 640, 640)\n",
            "Results saved to \u001b[1mruns/detect/exp\u001b[0m\n"
          ]
        }
      ],
      "source": [
        "!python detect.py --weights /content/yolov5/runs/train/exp/weights/best.pt --conf 0.4 --source /content/video.mp4"
      ]
    },
    {
      "cell_type": "markdown",
      "source": [
        "# Note the output video will be available in /content/yolov5/runs/train/detect folder"
      ],
      "metadata": {
        "id": "emcTpvJnQ7Ls"
      }
    }
  ],
  "metadata": {
    "accelerator": "GPU",
    "colab": {
      "provenance": [],
      "collapsed_sections": []
    },
    "kernelspec": {
      "display_name": "Python 3",
      "name": "python3"
    },
    "language_info": {
      "name": "python"
    }
  },
  "nbformat": 4,
  "nbformat_minor": 0
}